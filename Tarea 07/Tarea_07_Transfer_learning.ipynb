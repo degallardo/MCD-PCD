{
  "cells": [
    {
      "cell_type": "code",
      "execution_count": null,
      "metadata": {
        "colab": {
          "base_uri": "https://localhost:8080/"
        },
        "id": "fI6tgh0cvgUh",
        "outputId": "d24712b0-38d2-4095-c381-b183fae605c8"
      },
      "outputs": [
        {
          "name": "stdout",
          "output_type": "stream",
          "text": [
            "Mounted at /content/drive\n"
          ]
        }
      ],
      "source": [
        "# from google.colab import drive\n",
        "# drive.mount('/content/drive')"
      ]
    },
    {
      "cell_type": "markdown",
      "metadata": {
        "id": "vh3EGyqPmvlD"
      },
      "source": [
        "# Transfer learning\n",
        "\n",
        "Cuando hablamos de transfer learning nos referimos al proceso de entrenamiento de un modelo en un problema relacionado con otro modelo. La manera en que funciona es cuando tomamos los pesos ya entrenados de una arquitectura de red neuronal que fue entrenada con una gran cantidad de imagenes. \n",
        "\n",
        "Estos pesos reusados pueden ayudarnos a resolver el problema, o pueden ser un punto de partida para entrenar nuestro propio modelo y adaptarlo a un nuevo problema.\n",
        "\n",
        "Por lo general nos encontramos con librerias que ya tienen incluidas aplicaciones con estas arquitecturas, en donde se entrenaron los pesos con la base de datos IMAGENET.\n",
        "\n",
        "## VGG16\n",
        "\n"
      ]
    },
    {
      "cell_type": "code",
      "execution_count": 1,
      "metadata": {
        "colab": {
          "base_uri": "https://localhost:8080/"
        },
        "id": "F8tCsX47ms6T",
        "outputId": "96063b5e-5757-4ea5-a64a-ba1b19886511"
      },
      "outputs": [
        {
          "name": "stdout",
          "output_type": "stream",
          "text": [
            "Model: \"vgg16\"\n",
            "_________________________________________________________________\n",
            " Layer (type)                Output Shape              Param #   \n",
            "=================================================================\n",
            " input_1 (InputLayer)        [(None, 224, 224, 3)]     0         \n",
            "                                                                 \n",
            " block1_conv1 (Conv2D)       (None, 224, 224, 64)      1792      \n",
            "                                                                 \n",
            " block1_conv2 (Conv2D)       (None, 224, 224, 64)      36928     \n",
            "                                                                 \n",
            " block1_pool (MaxPooling2D)  (None, 112, 112, 64)      0         \n",
            "                                                                 \n",
            " block2_conv1 (Conv2D)       (None, 112, 112, 128)     73856     \n",
            "                                                                 \n",
            " block2_conv2 (Conv2D)       (None, 112, 112, 128)     147584    \n",
            "                                                                 \n",
            " block2_pool (MaxPooling2D)  (None, 56, 56, 128)       0         \n",
            "                                                                 \n",
            " block3_conv1 (Conv2D)       (None, 56, 56, 256)       295168    \n",
            "                                                                 \n",
            " block3_conv2 (Conv2D)       (None, 56, 56, 256)       590080    \n",
            "                                                                 \n",
            " block3_conv3 (Conv2D)       (None, 56, 56, 256)       590080    \n",
            "                                                                 \n",
            " block3_pool (MaxPooling2D)  (None, 28, 28, 256)       0         \n",
            "                                                                 \n",
            " block4_conv1 (Conv2D)       (None, 28, 28, 512)       1180160   \n",
            "                                                                 \n",
            " block4_conv2 (Conv2D)       (None, 28, 28, 512)       2359808   \n",
            "                                                                 \n",
            " block4_conv3 (Conv2D)       (None, 28, 28, 512)       2359808   \n",
            "                                                                 \n",
            " block4_pool (MaxPooling2D)  (None, 14, 14, 512)       0         \n",
            "                                                                 \n",
            " block5_conv1 (Conv2D)       (None, 14, 14, 512)       2359808   \n",
            "                                                                 \n",
            " block5_conv2 (Conv2D)       (None, 14, 14, 512)       2359808   \n",
            "                                                                 \n",
            " block5_conv3 (Conv2D)       (None, 14, 14, 512)       2359808   \n",
            "                                                                 \n",
            " block5_pool (MaxPooling2D)  (None, 7, 7, 512)         0         \n",
            "                                                                 \n",
            " flatten (Flatten)           (None, 25088)             0         \n",
            "                                                                 \n",
            " fc1 (Dense)                 (None, 4096)              102764544 \n",
            "                                                                 \n",
            " fc2 (Dense)                 (None, 4096)              16781312  \n",
            "                                                                 \n",
            " predictions (Dense)         (None, 1000)              4097000   \n",
            "                                                                 \n",
            "=================================================================\n",
            "Total params: 138,357,544\n",
            "Trainable params: 138,357,544\n",
            "Non-trainable params: 0\n",
            "_________________________________________________________________\n"
          ]
        }
      ],
      "source": [
        "#vgg16 model\n",
        "from keras.applications.vgg16 import VGG16\n",
        "# load model\n",
        "model = VGG16()\n",
        "# summarize the model\n",
        "model.summary()"
      ]
    },
    {
      "cell_type": "markdown",
      "metadata": {
        "id": "RwAnMufHrVBv"
      },
      "source": [
        "El siguiente ejemplo fue sacado de un curso tomado para redes neuronales. \n",
        "\n",
        "\n",
        "Como primer paso se importa la libreria `glob` la cual nos ayudara a importar las imagenes por categoria, y modificarlas para poder usar el transfer learning.\n",
        "\n",
        "Como regla inicial para todas las arquitecturas, el tamano de las imagenes debe de ser 224x224.\n",
        "\n",
        "En el dataset sólo tenemos dos clases las cuales se definen acontiuacion."
      ]
    },
    {
      "cell_type": "code",
      "execution_count": 4,
      "metadata": {
        "id": "2KCiCiiiez-l"
      },
      "outputs": [],
      "source": [
        "import numpy as np\n",
        "import tensorflow as tf"
      ]
    },
    {
      "cell_type": "code",
      "execution_count": 5,
      "metadata": {
        "id": "y3fwpes9ra2d"
      },
      "outputs": [],
      "source": [
        "# For training set only\n",
        "import glob\n",
        "organic = glob.glob('C:/Git/MCD-PCD/Tarea 06/datos/DATASET/DATASET/TRAIN/O/*.*')\n",
        "recycle = glob.glob('C:/Git/MCD-PCD/Tarea 06/datos/DATASET/DATASET/TRAIN/C/*.*')\n",
        "# angry = glob.glob('/content/drive/My_Drive/train_logmel/angry/*.*')\n",
        "# calm = glob.glob('/content/drive/My_Drive/train_logmel/calm/*.*')\n",
        "# disgust = glob.glob('/content/drive/My_Drive/train_logmel/disgust/*.*')\n",
        "# fearful = glob.glob('/content/drive/My_Drive/train_logmel/fearful/*.*')\n",
        "# happy = glob.glob('/content/drive/My_Drive/train_logmel/happy/*.*')\n",
        "# neutral = glob.glob('/content/drive/My_Drive/train_logmel/neutral/*.*')\n",
        "# sad = glob.glob('/content/drive/My_Drive/train_logmel/sad/*.*')\n",
        "# surprised = glob.glob('/content/drive/My_Drive/train_logmel/surprised/*.*')\n",
        "data = []\n",
        "labels = []\n",
        "for i in organic:   \n",
        "    image=tf.keras.preprocessing.image.load_img(i, color_mode='rgb', \n",
        "    target_size= (224,224))\n",
        "    image=np.array(image)\n",
        "    data.append(image)\n",
        "    labels.append('organic')\n",
        "for i in recycle:   \n",
        "    image=tf.keras.preprocessing.image.load_img(i, color_mode='rgb', \n",
        "    target_size= (224,224))\n",
        "    image=np.array(image)\n",
        "    data.append(image)\n",
        "    labels.append('recycle')\n",
        "# for i in angry:   \n",
        "#     image=tf.keras.preprocessing.image.load_img(i, color_mode='rgb', \n",
        "#     target_size= (224,224))\n",
        "#     image=np.array(image)\n",
        "#     data.append(image)\n",
        "#     labels.append('Angry')\n",
        "# for i in calm:   \n",
        "#     image=tf.keras.preprocessing.image.load_img(i, color_mode='rgb', \n",
        "#     target_size= (224,224))\n",
        "#     image=np.array(image)\n",
        "#     data.append(image)\n",
        "#     labels.append('Calm')\n",
        "# for i in disgust:   \n",
        "#     image=tf.keras.preprocessing.image.load_img(i, color_mode='rgb', \n",
        "#     target_size= (224,224))\n",
        "#     image=np.array(image)\n",
        "#     data.append(image)\n",
        "#     labels.append('Disgust')\n",
        "# for i in fearful:   \n",
        "#     image=tf.keras.preprocessing.image.load_img(i, color_mode='rgb', \n",
        "#     target_size= (224,224))\n",
        "#     image=np.array(image)\n",
        "#     data.append(image)\n",
        "#     labels.append('Fearful')\n",
        "# for i in happy:   \n",
        "#     image=tf.keras.preprocessing.image.load_img(i, color_mode='rgb', \n",
        "#     target_size= (224,224))\n",
        "#     image=np.array(image)\n",
        "#     data.append(image)\n",
        "#     labels.append('Happy')\n",
        "# for i in neutral:   \n",
        "#     image=tf.keras.preprocessing.image.load_img(i, color_mode='rgb', \n",
        "#     target_size= (224,224))\n",
        "#     image=np.array(image)\n",
        "#     data.append(image)\n",
        "#     labels.append('Neutral')\n",
        "# for i in sad:   \n",
        "#     image=tf.keras.preprocessing.image.load_img(i, color_mode='rgb', \n",
        "#     target_size= (224,224))\n",
        "#     image=np.array(image)\n",
        "#     data.append(image)\n",
        "#     labels.append('Sad')\n",
        "# for i in surprised:   \n",
        "#     image=tf.keras.preprocessing.image.load_img(i, color_mode='rgb', \n",
        "#     target_size= (224,224))\n",
        "#     image=np.array(image)\n",
        "#     data.append(image)\n",
        "#     labels.append('Surprised')\n",
        "train_data = np.array(data)\n",
        "train_labels = np.array(labels)"
      ]
    },
    {
      "cell_type": "markdown",
      "metadata": {
        "id": "WF1ycCxlrfcs"
      },
      "source": [
        "Normalizamos los datos y hacemos una transformacion a las etiquetas que pusimos anteriormente."
      ]
    },
    {
      "cell_type": "code",
      "execution_count": 6,
      "metadata": {
        "id": "CoROJS9bIl4a"
      },
      "outputs": [],
      "source": [
        "from sklearn.model_selection import train_test_split\n",
        "from sklearn import preprocessing\n",
        "\n",
        "(X_train, X_test, y_train, y_test) = train_test_split(train_data, train_labels, test_size=0.25, random_state=42)"
      ]
    },
    {
      "cell_type": "code",
      "execution_count": 7,
      "metadata": {},
      "outputs": [],
      "source": [
        "from keras.utils import np_utils\n",
        "from keras.layers import Input, Flatten, Dense, Dropout\n",
        "from keras.models import Model"
      ]
    },
    {
      "cell_type": "code",
      "execution_count": 8,
      "metadata": {
        "id": "84caHXtHrdi7"
      },
      "outputs": [],
      "source": [
        "X_train = X_train.astype('float32')\n",
        "X_test = X_test.astype('float32')\n",
        "X_train /= 255\n",
        "X_test /= 255\n",
        "\n",
        "# le = preprocessing.LabelEncoder()\n",
        "# le.fit([\"organic\", \"recycle\"])\n",
        "lb = preprocessing.LabelEncoder()\n",
        "y_train = np_utils.to_categorical(lb.fit_transform(y_train))\n",
        "y_test = np_utils.to_categorical(lb.fit_transform(y_test))"
      ]
    },
    {
      "cell_type": "markdown",
      "metadata": {
        "id": "eqUoOKzQraCO"
      },
      "source": [
        "Importamos desde la aplicacion de Keras los pesos que vamos a utilizar, en este caso vamos a usar la arquitectura de VGG16.\n",
        "\n",
        "Cuando corran este parte del programa les debe de dar como salida las capas entrenables. En caso de que no quieran moverle a los pesos, todas deben de estar puestas como False."
      ]
    },
    {
      "cell_type": "code",
      "execution_count": 9,
      "metadata": {
        "id": "nIb1vxKZr6hp"
      },
      "outputs": [
        {
          "name": "stdout",
          "output_type": "stream",
          "text": [
            "0 input_2 False\n",
            "1 block1_conv1 False\n",
            "2 block1_conv2 False\n",
            "3 block1_pool False\n",
            "4 block2_conv1 False\n",
            "5 block2_conv2 False\n",
            "6 block2_pool False\n",
            "7 block3_conv1 False\n",
            "8 block3_conv2 False\n",
            "9 block3_conv3 False\n",
            "10 block3_pool False\n",
            "11 block4_conv1 False\n",
            "12 block4_conv2 False\n",
            "13 block4_conv3 False\n",
            "14 block4_pool False\n",
            "15 block5_conv1 False\n",
            "16 block5_conv2 False\n",
            "17 block5_conv3 False\n",
            "18 block5_pool False\n"
          ]
        }
      ],
      "source": [
        "from keras.applications import VGG16\n",
        "vgg_model = VGG16(weights='imagenet',include_top=False, input_shape=(224, 224, 3))\n",
        "\n",
        "for layer in vgg_model.layers:\n",
        "    layer.trainable = False\n",
        "# Make sure you have frozen the correct layers\n",
        "for i, layer in enumerate(vgg_model.layers):\n",
        "    print(i, layer.name, layer.trainable)"
      ]
    },
    {
      "cell_type": "markdown",
      "metadata": {
        "id": "IXi2zTP0sSsR"
      },
      "source": [
        "Ahora tenemos las capas que podemos modificar. Recuerden que estas se agregan solo en caso de que las imagenes con las que esten trabajando sean muy diferentes de las que se encuentran en el IMAGENET.\n",
        "\n",
        "Se especifica en la ultima capa densa cuantas clases esperan tener. En este caso ponemos 8 por 8 clases distintas. "
      ]
    },
    {
      "cell_type": "code",
      "execution_count": 10,
      "metadata": {
        "id": "CfRSSw89r9RU"
      },
      "outputs": [],
      "source": [
        "x = vgg_model.output\n",
        "x = Flatten()(x) # Flatten dimensions to for use in FC layers\n",
        "x = Dense(512, activation='relu')(x)\n",
        "x = Dropout(0.5)(x) # Dropout layer to reduce overfitting\n",
        "x = Dense(256, activation='relu')(x)\n",
        "# x = Dense(8, activation='softmax')(x) # Softmax for multiclass\n",
        "x = Dense(1, activation='softmax')(x) # Softmax for multiclass\n",
        "transfer_model = Model(inputs=vgg_model.input, outputs=x)"
      ]
    },
    {
      "cell_type": "markdown",
      "metadata": {
        "id": "HRStyDVRr-Km"
      },
      "source": [
        "Compilando el modelo:\n",
        "Parece que algo no está bien configurado porque el modelo muestra una eficacia del 100%."
      ]
    },
    {
      "cell_type": "code",
      "execution_count": 11,
      "metadata": {},
      "outputs": [],
      "source": [
        "from keras import optimizers"
      ]
    },
    {
      "cell_type": "code",
      "execution_count": 12,
      "metadata": {
        "id": "dpHxqkbGsrO6"
      },
      "outputs": [
        {
          "name": "stderr",
          "output_type": "stream",
          "text": [
            "c:\\Git\\MCD-PCD\\.venv\\lib\\site-packages\\keras\\optimizers\\optimizer_v2\\adam.py:110: UserWarning: The `lr` argument is deprecated, use `learning_rate` instead.\n",
            "  super(Adam, self).__init__(name, **kwargs)\n"
          ]
        },
        {
          "name": "stdout",
          "output_type": "stream",
          "text": [
            "Epoch 1/3\n",
            "9423/9423 [==============================] - 1859s 197ms/step - loss: 0.0000e+00 - accuracy: 1.0000 - val_loss: 0.0000e+00 - val_accuracy: 1.0000\n",
            "Epoch 2/3\n",
            "9423/9423 [==============================] - 1779s 189ms/step - loss: 0.0000e+00 - accuracy: 1.0000 - val_loss: 0.0000e+00 - val_accuracy: 1.0000\n",
            "Epoch 3/3\n",
            "9423/9423 [==============================] - 1741s 185ms/step - loss: 0.0000e+00 - accuracy: 1.0000 - val_loss: 0.0000e+00 - val_accuracy: 1.0000\n"
          ]
        }
      ],
      "source": [
        "learning_rate= 5e-5\n",
        "transfer_model.compile(loss=\"categorical_crossentropy\", optimizer=optimizers.Adam(lr=learning_rate), metrics=[\"accuracy\"])\n",
        "history = transfer_model.fit(X_train, y_train, batch_size = 1, epochs=3, validation_data=(X_test,y_test))"
      ]
    },
    {
      "cell_type": "markdown",
      "metadata": {
        "id": "akzVafGItBta"
      },
      "source": [
        "Grafica el rendimiento.\n",
        "Parece que algo esta mal porque imprime una sola línea recta."
      ]
    },
    {
      "cell_type": "code",
      "execution_count": 20,
      "metadata": {},
      "outputs": [],
      "source": [
        "import matplotlib.pyplot as plt\n"
      ]
    },
    {
      "cell_type": "code",
      "execution_count": 23,
      "metadata": {},
      "outputs": [
        {
          "data": {
            "image/png": "[encoded data removed]",
            "text/plain": [
              "<Figure size 432x288 with 1 Axes>"
            ]
          },
          "metadata": {
            "needs_background": "light"
          },
          "output_type": "display_data"
        }
      ],
      "source": [
        "# plot Loss and Accuracies\n",
        "\n",
        "# loss\n",
        "plt.plot(history.history['loss'], label='train loss')\n",
        "plt.plot(history.history['val_loss'], label='val loss')\n",
        "plt.legend()\n",
        "plt.show()\n",
        "\n"
      ]
    }
  ],
  "metadata": {
    "accelerator": "GPU",
    "colab": {
      "name": "Tarea 07 - Transfer_learning.ipynb",
      "provenance": []
    },
    "gpuClass": "standard",
    "kernelspec": {
      "display_name": "Python 3.9.11 ('.venv': venv)",
      "language": "python",
      "name": "python3"
    },
    "language_info": {
      "codemirror_mode": {
        "name": "ipython",
        "version": 3
      },
      "file_extension": ".py",
      "mimetype": "text/x-python",
      "name": "python",
      "nbconvert_exporter": "python",
      "pygments_lexer": "ipython3",
      "version": "3.9.11"
    },
    "vscode": {
      "interpreter": {
        "hash": "3c45d73fd70bd870537f116763037b08300eb8e52ee46eae169a00e72a03bc3f"
      }
    }
  },
  "nbformat": 4,
  "nbformat_minor": 0
}

{
  "nbformat": 4,
  "nbformat_minor": 0,
  "metadata": {
    "colab": {
      "name": "MCD-PCD_Tarea03.ipynb",
      "provenance": []
    },
    "kernelspec": {
      "name": "python3",
      "display_name": "Python 3"
    },
    "language_info": {
      "name": "python"
    }
  },
  "cells": [
    {
      "cell_type": "code",
      "execution_count": null,
      "metadata": {
        "colab": {
          "base_uri": "https://localhost:8080/"
        },
        "id": "UmAn_TZR233n",
        "outputId": "2b121316-52af-485a-a685-c7d1ce80fa15"
      },
      "outputs": [
        {
          "output_type": "stream",
          "name": "stdout",
          "text": [
            "data loaded\n"
          ]
        }
      ],
      "source": [
        "# Author: Peter Prettenhofer <peter.prettenhofer@gmail.com>\n",
        "#         Olivier Grisel <olivier.grisel@ensta.org>\n",
        "#         Mathieu Blondel <mathieu@mblondel.org>\n",
        "#         Lars Buitinck\n",
        "# License: BSD 3 clause\n",
        "\n",
        "USE_HASHING = False\n",
        "N_FEATURES = 2**16\n",
        "\n",
        "SELECT_CHI2 = False\n",
        "\n",
        "from sklearn.datasets import fetch_20newsgroups\n",
        "\n",
        "categories = [\n",
        "    \"alt.atheism\",\n",
        "    \"talk.religion.misc\",\n",
        "    \"comp.graphics\",\n",
        "    \"sci.space\",\n",
        "]\n",
        "data_train = fetch_20newsgroups(subset=\"train\", categories=categories, shuffle=True, random_state=42)\n",
        "\n",
        "data_test = fetch_20newsgroups(subset=\"test\", categories=categories, shuffle=True, random_state=42)\n",
        "print(\"data loaded\")\n",
        "\n",
        "target_names = data_train.target_names"
      ]
    },
    {
      "cell_type": "code",
      "source": [
        "def size_mb(docs):\n",
        "    return sum(len(s.encode(\"utf-8\")) for s in docs) / 1e6\n",
        "\n",
        "\n",
        "data_train_size_mb = size_mb(data_train.data)\n",
        "data_test_size_mb = size_mb(data_test.data)\n",
        "\n",
        "print(\n",
        "    \"%d documents - %0.3fMB (training set)\" % (len(data_train.data), data_train_size_mb)\n",
        ")\n",
        "print(\"%d documents - %0.3fMB (test set)\" % (len(data_test.data), data_test_size_mb))\n",
        "print(\"%d categories\" % len(target_names))"
      ],
      "metadata": {
        "colab": {
          "base_uri": "https://localhost:8080/"
        },
        "id": "Zak05WMk3KrF",
        "outputId": "a08d149e-a2ae-426f-d9df-85cd964443c4"
      },
      "execution_count": null,
      "outputs": [
        {
          "output_type": "stream",
          "name": "stdout",
          "text": [
            "2034 documents - 3.980MB (training set)\n",
            "1353 documents - 2.867MB (test set)\n",
            "4 categories\n"
          ]
        }
      ]
    },
    {
      "cell_type": "code",
      "source": [
        "y_train, y_test = data_train.target, data_test.target\n",
        "\n",
        "from time import time\n",
        "\n",
        "from sklearn.feature_extraction.text import TfidfVectorizer\n",
        "from sklearn.feature_extraction.text import HashingVectorizer\n",
        "\n",
        "t0 = time()\n",
        "\n",
        "if USE_HASHING:\n",
        "    vectorizer = HashingVectorizer(\n",
        "        stop_words=\"english\", alternate_sign=False, n_features=N_FEATURES\n",
        "    )\n",
        "    X_train = vectorizer.transform(data_train.data)\n",
        "else:\n",
        "    vectorizer = TfidfVectorizer(sublinear_tf=True, max_df=0.5, stop_words=\"english\")\n",
        "    X_train = vectorizer.fit_transform(data_train.data)\n",
        "duration = time() - t0\n",
        "print(\"done in %fs at %0.3fMB/s\" % (duration, data_train_size_mb / duration))\n",
        "print(\"n_samples: %d, n_features: %d\" % X_train.shape)"
      ],
      "metadata": {
        "colab": {
          "base_uri": "https://localhost:8080/"
        },
        "id": "xujAkSlK3PlL",
        "outputId": "2d75cebb-2348-472f-9833-900a1a7e6756"
      },
      "execution_count": null,
      "outputs": [
        {
          "output_type": "stream",
          "name": "stdout",
          "text": [
            "done in 1.469096s at 2.709MB/s\n",
            "n_samples: 2034, n_features: 33809\n"
          ]
        }
      ]
    },
    {
      "cell_type": "code",
      "source": [
        "t0 = time()\n",
        "X_test = vectorizer.transform(data_test.data)\n",
        "duration = time() - t0\n",
        "print(\"done in %fs at %0.3fMB/s\" % (duration, data_test_size_mb / duration))\n",
        "print(\"n_samples: %d, n_features: %d\" % X_test.shape)"
      ],
      "metadata": {
        "colab": {
          "base_uri": "https://localhost:8080/"
        },
        "id": "KaCmZh-F3Uko",
        "outputId": "b7766457-dda1-4d4e-aff8-eff0e5a7762b"
      },
      "execution_count": null,
      "outputs": [
        {
          "output_type": "stream",
          "name": "stdout",
          "text": [
            "done in 0.843465s at 3.400MB/s\n",
            "n_samples: 1353, n_features: 33809\n"
          ]
        }
      ]
    },
    {
      "cell_type": "code",
      "source": [
        "if USE_HASHING:\n",
        "    feature_names = None\n",
        "else:\n",
        "    feature_names = vectorizer.get_feature_names_out()\n",
        "\n",
        "from sklearn.feature_selection import SelectKBest, chi2\n",
        "\n",
        "if SELECT_CHI2:\n",
        "    print(\"Extracting %d best features by a chi-squared test\" % SELECT_CHI2)\n",
        "    t0 = time()\n",
        "    ch2 = SelectKBest(chi2, k=SELECT_CHI2)\n",
        "    X_train = ch2.fit_transform(X_train, y_train)\n",
        "    X_test = ch2.transform(X_test)\n",
        "    if feature_names is not None:\n",
        "        # keep selected feature names\n",
        "        feature_names = feature_names[ch2.get_support()]\n",
        "    print(\"done in %fs\" % (time() - t0))\n",
        "    print()"
      ],
      "metadata": {
        "id": "dYHaJo1f34i1"
      },
      "execution_count": null,
      "outputs": []
    },
    {
      "cell_type": "code",
      "source": [
        "import numpy as np\n",
        "from sklearn import metrics\n",
        "from sklearn.utils.extmath import density\n",
        "\n",
        "\n",
        "def trim(s):\n",
        "    \"\"\"Trim string to fit on terminal (assuming 80-column display)\"\"\"\n",
        "    return s if len(s) <= 80 else s[:77] + \"...\""
      ],
      "metadata": {
        "id": "CIbm94Nz3-ak"
      },
      "execution_count": null,
      "outputs": []
    },
    {
      "cell_type": "code",
      "source": [
        "def benchmark(clf):\n",
        "    print(\"_\" * 80)\n",
        "    print(\"Training: \")\n",
        "    print(clf)\n",
        "    t0 = time()\n",
        "    clf.fit(X_train, y_train)\n",
        "    train_time = time() - t0\n",
        "    print(\"train time: %0.3fs\" % train_time)\n",
        "\n",
        "    t0 = time()\n",
        "    pred = clf.predict(X_test)\n",
        "    test_time = time() - t0\n",
        "    print(\"test time:  %0.3fs\" % test_time)\n",
        "\n",
        "    score = metrics.accuracy_score(y_test, pred)\n",
        "    print(\"accuracy:   %0.3f\" % score)\n",
        "\n",
        "    if hasattr(clf, \"coef_\"):\n",
        "        print(\"dimensionality: %d\" % clf.coef_.shape[1])\n",
        "        print(\"density: %f\" % density(clf.coef_))\n",
        "\n",
        "        if feature_names is not None:\n",
        "            print(\"top 10 keywords per class:\")\n",
        "            for i, label in enumerate(target_names):\n",
        "                top10 = np.argsort(clf.coef_[i])[-10:]\n",
        "                print(trim(\"%s: %s\" % (label, \" \".join(feature_names[top10]))))\n",
        "        print()\n",
        "\n",
        "    print(\"classification report:\")\n",
        "    print(metrics.classification_report(y_test, pred, target_names=target_names))\n",
        "\n",
        "    print(\"confusion matrix:\")\n",
        "    print(metrics.confusion_matrix(y_test, pred))\n",
        "\n",
        "    print()\n",
        "    clf_descr = str(clf).split(\"(\")[0]\n",
        "    return clf_descr, score, train_time, test_time"
      ],
      "metadata": {
        "id": "6DWBRAa94DNW"
      },
      "execution_count": null,
      "outputs": []
    },
    {
      "cell_type": "code",
      "source": [
        "from sklearn.feature_selection import SelectFromModel\n",
        "from sklearn.linear_model import RidgeClassifier\n",
        "from sklearn.pipeline import Pipeline\n",
        "from sklearn.svm import LinearSVC\n",
        "from sklearn.linear_model import SGDClassifier\n",
        "from sklearn.linear_model import Perceptron\n",
        "from sklearn.linear_model import PassiveAggressiveClassifier\n",
        "from sklearn.naive_bayes import BernoulliNB, ComplementNB, MultinomialNB\n",
        "from sklearn.neighbors import KNeighborsClassifier\n",
        "from sklearn.neighbors import NearestCentroid\n",
        "from sklearn.ensemble import RandomForestClassifier"
      ],
      "metadata": {
        "id": "v8PJ7m4Y4FBK"
      },
      "execution_count": null,
      "outputs": []
    },
    {
      "cell_type": "code",
      "source": [
        "results = []\n",
        "for clf, name in (\n",
        "    (RidgeClassifier(tol=1e-2, solver=\"sag\"), \"Ridge Classifier\"),\n",
        "    (Perceptron(max_iter=50), \"Perceptron\"),\n",
        "    (PassiveAggressiveClassifier(max_iter=50), \"Passive-Aggressive\"),\n",
        "    (KNeighborsClassifier(n_neighbors=10), \"kNN\"),\n",
        "    (RandomForestClassifier(), \"Random forest\"),\n",
        "):\n",
        "    print(\"=\" * 80)\n",
        "    print(name)\n",
        "    results.append(benchmark(clf))\n",
        "\n",
        "for penalty in [\"l2\", \"l1\"]:\n",
        "    print(\"=\" * 80)\n",
        "    print(\"%s penalty\" % penalty.upper())\n",
        "    # Train Liblinear model\n",
        "    results.append(benchmark(LinearSVC(penalty=penalty, dual=False, tol=1e-3)))\n",
        "\n",
        "    # Train SGD model\n",
        "    results.append(benchmark(SGDClassifier(alpha=0.0001, max_iter=50, penalty=penalty)))\n",
        "\n",
        "# Train SGD with Elastic Net penalty\n",
        "print(\"=\" * 80)\n",
        "print(\"Elastic-Net penalty\")\n",
        "results.append(\n",
        "    benchmark(SGDClassifier(alpha=0.0001, max_iter=50, penalty=\"elasticnet\")))\n",
        "\n",
        "# Train NearestCentroid without threshold\n",
        "print(\"=\" * 80)\n",
        "print(\"NearestCentroid (aka Rocchio classifier)\")\n",
        "results.append(benchmark(NearestCentroid()))\n",
        "\n",
        "# Train sparse Naive Bayes classifiers\n",
        "print(\"=\" * 80)\n",
        "print(\"Naive Bayes\")\n",
        "results.append(benchmark(MultinomialNB(alpha=0.01)))\n",
        "results.append(benchmark(BernoulliNB(alpha=0.01)))\n",
        "results.append(benchmark(ComplementNB(alpha=0.1)))\n",
        "\n",
        "print(\"=\" * 80)\n",
        "print(\"LinearSVC with L1-based feature selection\")\n",
        "# The smaller C, the stronger the regularization.\n",
        "# The more regularization, the more sparsity.\n",
        "results.append(\n",
        "    benchmark(Pipeline([(\"feature_selection\",SelectFromModel(LinearSVC(penalty=\"l1\", dual=False, tol=1e-3)),),\n",
        "                (\"classification\", LinearSVC(penalty=\"l2\")),])))"
      ],
      "metadata": {
        "colab": {
          "base_uri": "https://localhost:8080/"
        },
        "id": "XOvtY7cj4K0z",
        "outputId": "0876faec-1c2a-4dce-9f34-11369675098a"
      },
      "execution_count": null,
      "outputs": [
        {
          "output_type": "stream",
          "name": "stdout",
          "text": [
            "================================================================================\n",
            "Ridge Classifier\n",
            "________________________________________________________________________________\n",
            "Training: \n",
            "RidgeClassifier(solver='sag', tol=0.01)\n"
          ]
        },
        {
          "output_type": "stream",
          "name": "stderr",
          "text": [
            "/usr/local/lib/python3.7/dist-packages/sklearn/linear_model/_ridge.py:730: UserWarning: \"sag\" solver requires many iterations to fit an intercept with sparse inputs. Either set the solver to \"auto\" or \"sparse_cg\", or set a low \"tol\" and a high \"max_iter\" (especially if inputs are not standardized).\n",
            "  '\"sag\" solver requires many iterations to fit '\n"
          ]
        },
        {
          "output_type": "stream",
          "name": "stdout",
          "text": [
            "train time: 0.442s\n",
            "test time:  0.003s\n",
            "accuracy:   0.896\n",
            "dimensionality: 33809\n",
            "density: 1.000000\n",
            "top 10 keywords per class:\n",
            "alt.atheism: atheist wingate osrhe god okcforum caltech islamic atheism keith...\n",
            "comp.graphics: animation video looking card hi 3d thanks file image graphics\n",
            "sci.space: dc shuttle flight launch pat moon sci orbit nasa space\n",
            "talk.religion.misc: jesus mitre hudson morality biblical 2000 beast mr fbi ch...\n",
            "\n",
            "classification report:\n",
            "                    precision    recall  f1-score   support\n",
            "\n",
            "       alt.atheism       0.87      0.83      0.85       319\n",
            "     comp.graphics       0.90      0.98      0.94       389\n",
            "         sci.space       0.96      0.94      0.95       394\n",
            "talk.religion.misc       0.83      0.78      0.80       251\n",
            "\n",
            "          accuracy                           0.90      1353\n",
            "         macro avg       0.89      0.88      0.88      1353\n",
            "      weighted avg       0.89      0.90      0.89      1353\n",
            "\n",
            "confusion matrix:\n",
            "[[265   9   7  38]\n",
            " [  1 381   4   3]\n",
            " [  0  23 371   0]\n",
            " [ 40  10   6 195]]\n",
            "\n",
            "================================================================================\n",
            "Perceptron\n",
            "________________________________________________________________________________\n",
            "Training: \n",
            "Perceptron(max_iter=50)\n",
            "train time: 0.064s\n",
            "test time:  0.006s\n",
            "accuracy:   0.888\n",
            "dimensionality: 33809\n",
            "density: 0.255302\n",
            "top 10 keywords per class:\n",
            "alt.atheism: wingate osrhe freedom lippard alt thing cobb atheists atheism keith\n",
            "comp.graphics: siggraph code fractal comp mpeg library pc animation sphere gr...\n",
            "sci.space: bruce wpi solar sci funding moon orbit planets dc space\n",
            "talk.religion.misc: god morality hudson beast sword fbi 2000 order mr christian\n",
            "\n",
            "classification report:\n",
            "                    precision    recall  f1-score   support\n",
            "\n",
            "       alt.atheism       0.86      0.80      0.83       319\n",
            "     comp.graphics       0.90      0.97      0.94       389\n",
            "         sci.space       0.95      0.93      0.94       394\n",
            "talk.religion.misc       0.79      0.80      0.79       251\n",
            "\n",
            "          accuracy                           0.89      1353\n",
            "         macro avg       0.88      0.88      0.88      1353\n",
            "      weighted avg       0.89      0.89      0.89      1353\n",
            "\n",
            "confusion matrix:\n",
            "[[256   7   8  48]\n",
            " [  0 379   4   6]\n",
            " [  7  21 366   0]\n",
            " [ 33  12   6 200]]\n",
            "\n",
            "================================================================================\n",
            "Passive-Aggressive\n",
            "________________________________________________________________________________\n",
            "Training: \n",
            "PassiveAggressiveClassifier(max_iter=50)\n",
            "train time: 0.153s\n",
            "test time:  0.025s\n",
            "accuracy:   0.905\n",
            "dimensionality: 33809\n",
            "density: 0.702328\n",
            "top 10 keywords per class:\n",
            "alt.atheism: osrhe cobb psilink wingate okcforum caltech islamic keith atheis...\n",
            "comp.graphics: package computer tiff hi code animation 3d file image graphics\n",
            "sci.space: henry dc spacecraft shuttle sci launch moon nasa orbit space\n",
            "talk.religion.misc: 666 hudson koresh christ beast 2000 mr morality fbi chris...\n",
            "\n",
            "classification report:\n",
            "                    precision    recall  f1-score   support\n",
            "\n",
            "       alt.atheism       0.87      0.85      0.86       319\n",
            "     comp.graphics       0.92      0.98      0.95       389\n",
            "         sci.space       0.96      0.95      0.95       394\n",
            "talk.religion.misc       0.84      0.79      0.81       251\n",
            "\n",
            "          accuracy                           0.90      1353\n",
            "         macro avg       0.90      0.89      0.89      1353\n",
            "      weighted avg       0.90      0.90      0.90      1353\n",
            "\n",
            "confusion matrix:\n",
            "[[270   6   9  34]\n",
            " [  0 381   3   5]\n",
            " [  2  18 374   0]\n",
            " [ 39   8   5 199]]\n",
            "\n",
            "================================================================================\n",
            "kNN\n",
            "________________________________________________________________________________\n",
            "Training: \n",
            "KNeighborsClassifier(n_neighbors=10)\n",
            "train time: 0.012s\n",
            "test time:  0.379s\n",
            "accuracy:   0.858\n",
            "classification report:\n",
            "                    precision    recall  f1-score   support\n",
            "\n",
            "       alt.atheism       0.78      0.90      0.84       319\n",
            "     comp.graphics       0.89      0.89      0.89       389\n",
            "         sci.space       0.90      0.91      0.90       394\n",
            "talk.religion.misc       0.86      0.67      0.75       251\n",
            "\n",
            "          accuracy                           0.86      1353\n",
            "         macro avg       0.86      0.84      0.85      1353\n",
            "      weighted avg       0.86      0.86      0.86      1353\n",
            "\n",
            "confusion matrix:\n",
            "[[287   3  11  18]\n",
            " [ 14 348  19   8]\n",
            " [  7  26 359   2]\n",
            " [ 59  13  12 167]]\n",
            "\n",
            "================================================================================\n",
            "Random forest\n",
            "________________________________________________________________________________\n",
            "Training: \n",
            "RandomForestClassifier()\n",
            "train time: 2.673s\n",
            "test time:  0.099s\n",
            "accuracy:   0.843\n",
            "classification report:\n",
            "                    precision    recall  f1-score   support\n",
            "\n",
            "       alt.atheism       0.84      0.78      0.81       319\n",
            "     comp.graphics       0.79      0.97      0.87       389\n",
            "         sci.space       0.94      0.88      0.91       394\n",
            "talk.religion.misc       0.82      0.67      0.74       251\n",
            "\n",
            "          accuracy                           0.84      1353\n",
            "         macro avg       0.84      0.82      0.83      1353\n",
            "      weighted avg       0.85      0.84      0.84      1353\n",
            "\n",
            "confusion matrix:\n",
            "[[248  28   8  35]\n",
            " [  3 377   8   1]\n",
            " [  1  43 348   2]\n",
            " [ 43  32   8 168]]\n",
            "\n",
            "================================================================================\n",
            "L2 penalty\n",
            "________________________________________________________________________________\n",
            "Training: \n",
            "LinearSVC(dual=False, tol=0.001)\n",
            "train time: 0.146s\n",
            "test time:  0.003s\n",
            "accuracy:   0.900\n",
            "dimensionality: 33809\n",
            "density: 1.000000\n",
            "top 10 keywords per class:\n",
            "alt.atheism: rushdie osrhe atheist wingate okcforum caltech islamic atheism k...\n",
            "comp.graphics: code 42 video hi animation thanks 3d file image graphics\n",
            "sci.space: planets dc pat shuttle launch sci moon nasa orbit space\n",
            "talk.religion.misc: abortion hudson 666 biblical 2000 morality mr beast fbi c...\n",
            "\n",
            "classification report:\n",
            "                    precision    recall  f1-score   support\n",
            "\n",
            "       alt.atheism       0.87      0.83      0.85       319\n",
            "     comp.graphics       0.91      0.98      0.95       389\n",
            "         sci.space       0.96      0.95      0.95       394\n",
            "talk.religion.misc       0.83      0.79      0.81       251\n",
            "\n",
            "          accuracy                           0.90      1353\n",
            "         macro avg       0.89      0.89      0.89      1353\n",
            "      weighted avg       0.90      0.90      0.90      1353\n",
            "\n",
            "confusion matrix:\n",
            "[[266   7   8  38]\n",
            " [  2 381   3   3]\n",
            " [  1  20 373   0]\n",
            " [ 38   9   6 198]]\n",
            "\n",
            "________________________________________________________________________________\n",
            "Training: \n",
            "SGDClassifier(max_iter=50)\n",
            "train time: 0.050s\n",
            "test time:  0.004s\n",
            "accuracy:   0.900\n",
            "dimensionality: 33809\n",
            "density: 0.577213\n",
            "top 10 keywords per class:\n",
            "alt.atheism: osrhe charley okcforum caltech cobb wingate islamic keith atheis...\n",
            "comp.graphics: video computer code tiff hi animation 3d file image graphics\n",
            "sci.space: planets shuttle pat launch dc sci moon nasa orbit space\n",
            "talk.religion.misc: truth frank biblical 666 mr morality fbi 2000 beast chris...\n",
            "\n",
            "classification report:\n",
            "                    precision    recall  f1-score   support\n",
            "\n",
            "       alt.atheism       0.87      0.83      0.85       319\n",
            "     comp.graphics       0.92      0.98      0.95       389\n",
            "         sci.space       0.96      0.94      0.95       394\n",
            "talk.religion.misc       0.81      0.80      0.81       251\n",
            "\n",
            "          accuracy                           0.90      1353\n",
            "         macro avg       0.89      0.89      0.89      1353\n",
            "      weighted avg       0.90      0.90      0.90      1353\n",
            "\n",
            "confusion matrix:\n",
            "[[264   7   7  41]\n",
            " [  0 382   3   4]\n",
            " [  3  20 370   1]\n",
            " [ 37   7   5 202]]\n",
            "\n",
            "================================================================================\n",
            "L1 penalty\n",
            "________________________________________________________________________________\n",
            "Training: \n",
            "LinearSVC(dual=False, penalty='l1', tol=0.001)\n",
            "train time: 0.265s\n",
            "test time:  0.003s\n",
            "accuracy:   0.873\n",
            "dimensionality: 33809\n",
            "density: 0.005546\n",
            "top 10 keywords per class:\n",
            "alt.atheism: benedikt rice rushdie wingate islamic atheism wwc keith bmd athe...\n",
            "comp.graphics: sphere virtual 42 files windows hi image 3d 3do graphics\n",
            "sci.space: pat henry sunrise rockets dc launch flight moon orbit space\n",
            "talk.religion.misc: hudson thyagi biblical 2000 abortion kendig hare mitre ch...\n",
            "\n",
            "classification report:\n",
            "                    precision    recall  f1-score   support\n",
            "\n",
            "       alt.atheism       0.85      0.75      0.80       319\n",
            "     comp.graphics       0.89      0.97      0.93       389\n",
            "         sci.space       0.94      0.94      0.94       394\n",
            "talk.religion.misc       0.76      0.78      0.77       251\n",
            "\n",
            "          accuracy                           0.87      1353\n",
            "         macro avg       0.86      0.86      0.86      1353\n",
            "      weighted avg       0.87      0.87      0.87      1353\n",
            "\n",
            "confusion matrix:\n",
            "[[238  14  11  56]\n",
            " [  0 378   7   4]\n",
            " [  2  22 369   1]\n",
            " [ 39  12   4 196]]\n",
            "\n",
            "________________________________________________________________________________\n",
            "Training: \n",
            "SGDClassifier(max_iter=50, penalty='l1')\n",
            "train time: 0.152s\n",
            "test time:  0.004s\n",
            "accuracy:   0.888\n",
            "dimensionality: 33809\n",
            "density: 0.022893\n",
            "top 10 keywords per class:\n",
            "alt.atheism: osrhe rice charley psilink rushdie wingate keith islamic atheism...\n",
            "comp.graphics: file windows 3d files 3do image video hi animation graphics\n",
            "sci.space: pat nasa launch spacecraft flight sci moon dc orbit space\n",
            "talk.religion.misc: christ morality beast abortion 2000 biblical homosexualit...\n",
            "\n",
            "classification report:\n",
            "                    precision    recall  f1-score   support\n",
            "\n",
            "       alt.atheism       0.86      0.80      0.82       319\n",
            "     comp.graphics       0.93      0.97      0.95       389\n",
            "         sci.space       0.93      0.95      0.94       394\n",
            "talk.religion.misc       0.79      0.79      0.79       251\n",
            "\n",
            "          accuracy                           0.89      1353\n",
            "         macro avg       0.88      0.87      0.88      1353\n",
            "      weighted avg       0.89      0.89      0.89      1353\n",
            "\n",
            "confusion matrix:\n",
            "[[254   5  13  47]\n",
            " [  2 376   7   4]\n",
            " [  2  17 373   2]\n",
            " [ 39   8   6 198]]\n",
            "\n",
            "================================================================================\n",
            "Elastic-Net penalty\n",
            "________________________________________________________________________________\n",
            "Training: \n",
            "SGDClassifier(max_iter=50, penalty='elasticnet')\n",
            "train time: 0.201s\n",
            "test time:  0.004s\n",
            "accuracy:   0.897\n",
            "dimensionality: 33809\n",
            "density: 0.185919\n",
            "top 10 keywords per class:\n",
            "alt.atheism: rushdie cobb caltech charley okcforum wingate islamic keith athe...\n",
            "comp.graphics: computer points 42 3do hi 3d file animation image graphics\n",
            "sci.space: shuttle planets pat launch sci dc moon nasa orbit space\n",
            "talk.religion.misc: order abortion morality 666 biblical mr 2000 fbi beast ch...\n",
            "\n",
            "classification report:\n",
            "                    precision    recall  f1-score   support\n",
            "\n",
            "       alt.atheism       0.86      0.83      0.85       319\n",
            "     comp.graphics       0.92      0.96      0.94       389\n",
            "         sci.space       0.94      0.95      0.94       394\n",
            "talk.religion.misc       0.82      0.80      0.81       251\n",
            "\n",
            "          accuracy                           0.90      1353\n",
            "         macro avg       0.89      0.89      0.89      1353\n",
            "      weighted avg       0.90      0.90      0.90      1353\n",
            "\n",
            "confusion matrix:\n",
            "[[266   6  10  37]\n",
            " [  2 375   7   5]\n",
            " [  2  18 373   1]\n",
            " [ 38   7   6 200]]\n",
            "\n",
            "================================================================================\n",
            "NearestCentroid (aka Rocchio classifier)\n",
            "________________________________________________________________________________\n",
            "Training: \n",
            "NearestCentroid()\n",
            "train time: 0.012s\n",
            "test time:  0.005s\n",
            "accuracy:   0.855\n",
            "classification report:\n",
            "                    precision    recall  f1-score   support\n",
            "\n",
            "       alt.atheism       0.88      0.69      0.77       319\n",
            "     comp.graphics       0.84      0.97      0.90       389\n",
            "         sci.space       0.96      0.92      0.94       394\n",
            "talk.religion.misc       0.72      0.79      0.75       251\n",
            "\n",
            "          accuracy                           0.86      1353\n",
            "         macro avg       0.85      0.84      0.84      1353\n",
            "      weighted avg       0.86      0.86      0.85      1353\n",
            "\n",
            "confusion matrix:\n",
            "[[219  25   5  70]\n",
            " [  1 379   5   4]\n",
            " [  1  30 361   2]\n",
            " [ 29  19   5 198]]\n",
            "\n",
            "================================================================================\n",
            "Naive Bayes\n",
            "________________________________________________________________________________\n",
            "Training: \n",
            "MultinomialNB(alpha=0.01)\n",
            "train time: 0.014s\n",
            "test time:  0.002s\n",
            "accuracy:   0.899\n",
            "dimensionality: 33809\n",
            "density: 1.000000\n",
            "top 10 keywords per class:\n",
            "alt.atheism: say livesey article don people atheists com caltech god keith\n",
            "comp.graphics: file image com files nntp host posting thanks university graphics\n",
            "sci.space: pat moon digex henry article access gov com nasa space\n",
            "talk.religion.misc: apple don kent article people sandvik jesus christian god...\n",
            "\n",
            "classification report:\n",
            "                    precision    recall  f1-score   support\n",
            "\n",
            "       alt.atheism       0.85      0.87      0.86       319\n",
            "     comp.graphics       0.95      0.95      0.95       389\n",
            "         sci.space       0.92      0.95      0.94       394\n",
            "talk.religion.misc       0.86      0.77      0.81       251\n",
            "\n",
            "          accuracy                           0.90      1353\n",
            "         macro avg       0.89      0.89      0.89      1353\n",
            "      weighted avg       0.90      0.90      0.90      1353\n",
            "\n",
            "confusion matrix:\n",
            "[[279   2   8  30]\n",
            " [  2 369  16   2]\n",
            " [  3  15 376   0]\n",
            " [ 45   4   9 193]]\n",
            "\n",
            "________________________________________________________________________________\n",
            "Training: \n",
            "BernoulliNB(alpha=0.01)\n",
            "train time: 0.011s\n",
            "test time:  0.008s\n",
            "accuracy:   0.884\n",
            "dimensionality: 33809\n",
            "density: 1.000000\n",
            "top 10 keywords per class:\n",
            "alt.atheism: god say think people don com nntp host posting article\n",
            "comp.graphics: like com article know thanks graphics university nntp host pos...\n",
            "sci.space: nasa like university just com nntp host posting space article\n",
            "talk.religion.misc: think know christian posting god people just don article com\n",
            "\n",
            "classification report:\n",
            "                    precision    recall  f1-score   support\n",
            "\n",
            "       alt.atheism       0.83      0.88      0.86       319\n",
            "     comp.graphics       0.88      0.96      0.92       389\n",
            "         sci.space       0.94      0.91      0.92       394\n",
            "talk.religion.misc       0.87      0.73      0.79       251\n",
            "\n",
            "          accuracy                           0.88      1353\n",
            "         macro avg       0.88      0.87      0.87      1353\n",
            "      weighted avg       0.88      0.88      0.88      1353\n",
            "\n",
            "confusion matrix:\n",
            "[[282   9   3  25]\n",
            " [  1 373  13   2]\n",
            " [  5  31 358   0]\n",
            " [ 50  10   8 183]]\n",
            "\n",
            "________________________________________________________________________________\n",
            "Training: \n",
            "ComplementNB(alpha=0.1)\n",
            "train time: 0.012s\n",
            "test time:  0.002s\n",
            "accuracy:   0.911\n",
            "dimensionality: 33809\n",
            "density: 1.000000\n",
            "top 10 keywords per class:\n",
            "alt.atheism: bake beauchaine mangoe buphy rushdie jaeger schneider mozumder i...\n",
            "comp.graphics: swix swivel swiv3d switzerland pov vga cview vesa tiff polygon\n",
            "sci.space: kinetic engines gehrels zoology prb acad3 nsmca dseg spacecraft mc...\n",
            "talk.religion.misc: muscles dclxvi 93apr9160836 ssan dba mustard db muttiah s...\n",
            "\n",
            "classification report:\n",
            "                    precision    recall  f1-score   support\n",
            "\n",
            "       alt.atheism       0.85      0.89      0.87       319\n",
            "     comp.graphics       0.95      0.97      0.96       389\n",
            "         sci.space       0.94      0.97      0.95       394\n",
            "talk.religion.misc       0.88      0.75      0.81       251\n",
            "\n",
            "          accuracy                           0.91      1353\n",
            "         macro avg       0.90      0.90      0.90      1353\n",
            "      weighted avg       0.91      0.91      0.91      1353\n",
            "\n",
            "confusion matrix:\n",
            "[[284   2   8  25]\n",
            " [  2 379   7   1]\n",
            " [  0  13 381   0]\n",
            " [ 49   5   9 188]]\n",
            "\n",
            "================================================================================\n",
            "LinearSVC with L1-based feature selection\n",
            "________________________________________________________________________________\n",
            "Training: \n",
            "Pipeline(steps=[('feature_selection',\n",
            "                 SelectFromModel(estimator=LinearSVC(dual=False, penalty='l1',\n",
            "                                                     tol=0.001))),\n",
            "                ('classification', LinearSVC())])\n"
          ]
        },
        {
          "output_type": "stream",
          "name": "stderr",
          "text": [
            "/usr/local/lib/python3.7/dist-packages/sklearn/utils/deprecation.py:103: FutureWarning: Attribute `coef_` was deprecated in version 0.24 and will be removed in 1.1 (renaming of 0.26).\n",
            "  warnings.warn(msg, category=FutureWarning)\n",
            "/usr/local/lib/python3.7/dist-packages/sklearn/utils/deprecation.py:103: FutureWarning: Attribute `coef_` was deprecated in version 0.24 and will be removed in 1.1 (renaming of 0.26).\n",
            "  warnings.warn(msg, category=FutureWarning)\n",
            "/usr/local/lib/python3.7/dist-packages/sklearn/utils/deprecation.py:103: FutureWarning: Attribute `coef_` was deprecated in version 0.24 and will be removed in 1.1 (renaming of 0.26).\n",
            "  warnings.warn(msg, category=FutureWarning)\n"
          ]
        },
        {
          "output_type": "stream",
          "name": "stdout",
          "text": [
            "train time: 0.257s\n",
            "test time:  0.004s\n",
            "accuracy:   0.880\n",
            "classification report:\n",
            "                    precision    recall  f1-score   support\n",
            "\n",
            "       alt.atheism       0.84      0.80      0.82       319\n",
            "     comp.graphics       0.91      0.96      0.93       389\n",
            "         sci.space       0.92      0.95      0.93       394\n",
            "talk.religion.misc       0.80      0.75      0.78       251\n",
            "\n",
            "          accuracy                           0.88      1353\n",
            "         macro avg       0.87      0.86      0.87      1353\n",
            "      weighted avg       0.88      0.88      0.88      1353\n",
            "\n",
            "confusion matrix:\n",
            "[[254  10  14  41]\n",
            " [  2 374   9   4]\n",
            " [  2  18 373   1]\n",
            " [ 44  10   8 189]]\n",
            "\n"
          ]
        }
      ]
    },
    {
      "cell_type": "code",
      "source": [
        "import matplotlib.pyplot as plt\n",
        "\n",
        "indices = np.arange(len(results))\n",
        "\n",
        "results = [[x[i] for x in results] for i in range(4)]\n",
        "\n",
        "clf_names, score, training_time, test_time = results\n",
        "training_time = np.array(training_time) / np.max(training_time)\n",
        "test_time = np.array(test_time) / np.max(test_time)\n",
        "\n",
        "plt.figure(figsize=(12, 8))\n",
        "plt.title(\"Score\")\n",
        "plt.barh(indices, score, 0.2, label=\"score\", color=\"navy\")\n",
        "plt.barh(indices + 0.3, training_time, 0.2, label=\"training time\", color=\"c\")\n",
        "plt.barh(indices + 0.6, test_time, 0.2, label=\"test time\", color=\"darkorange\")\n",
        "plt.yticks(())\n",
        "plt.legend(loc=\"best\")\n",
        "plt.subplots_adjust(left=0.25)\n",
        "plt.subplots_adjust(top=0.95)\n",
        "plt.subplots_adjust(bottom=0.05)\n",
        "\n",
        "for i, c in zip(indices, clf_names):\n",
        "    plt.text(-0.3, i, c)\n",
        "\n",
        "plt.show()"
      ],
      "metadata": {
        "colab": {
          "base_uri": "https://localhost:8080/",
          "height": 582
        },
        "id": "ggkrADmo4dxV",
        "outputId": "23a0f327-57e8-4522-af97-e2f3f34d2f2b"
      },
      "execution_count": null,
      "outputs": [
        {
          "output_type": "display_data",
          "data": {
            "text/plain": [
              "<Figure size 864x576 with 1 Axes>"
            ],
            "image/png": "[encoded data removed]"
          },
          "metadata": {
            "needs_background": "light"
          }
        }
      ]
    },
    {
      "cell_type": "code",
      "source": [
        "import pandas as pd\n",
        "# https://catalog.data.gov/dataset/consumer-complaint-database\n",
        "# df = pd.read_csv('/content/drive/MyDrive/Datasets/complaints.csv')\n",
        "df = pd.read_csv('/content/drive/MyDrive/MCD/4_PCD/Tarea03/complaints.csv')\n",
        "df.head()"
      ],
      "metadata": {
        "colab": {
          "base_uri": "https://localhost:8080/",
          "height": 277
        },
        "id": "hgBgstPb4i6n",
        "outputId": "78041f75-c083-43db-9483-6a5a983645b0"
      },
      "execution_count": null,
      "outputs": [
        {
          "output_type": "error",
          "ename": "ParserError",
          "evalue": "ignored",
          "traceback": [
            "\u001b[0;31m---------------------------------------------------------------------------\u001b[0m",
            "\u001b[0;31mParserError\u001b[0m                               Traceback (most recent call last)",
            "\u001b[0;32m<ipython-input-27-b4b9b5d57bd7>\u001b[0m in \u001b[0;36m<module>\u001b[0;34m()\u001b[0m\n\u001b[1;32m      2\u001b[0m \u001b[0;31m# https://catalog.data.gov/dataset/consumer-complaint-database\u001b[0m\u001b[0;34m\u001b[0m\u001b[0;34m\u001b[0m\u001b[0;34m\u001b[0m\u001b[0m\n\u001b[1;32m      3\u001b[0m \u001b[0;31m# df = pd.read_csv('/content/drive/MyDrive/Datasets/complaints.csv')\u001b[0m\u001b[0;34m\u001b[0m\u001b[0;34m\u001b[0m\u001b[0;34m\u001b[0m\u001b[0m\n\u001b[0;32m----> 4\u001b[0;31m \u001b[0mdf\u001b[0m \u001b[0;34m=\u001b[0m \u001b[0mpd\u001b[0m\u001b[0;34m.\u001b[0m\u001b[0mread_csv\u001b[0m\u001b[0;34m(\u001b[0m\u001b[0;34m'/content/drive/MyDrive/MCD/4_PCD/Tarea03/complaints.csv'\u001b[0m\u001b[0;34m)\u001b[0m\u001b[0;34m\u001b[0m\u001b[0;34m\u001b[0m\u001b[0m\n\u001b[0m\u001b[1;32m      5\u001b[0m \u001b[0mdf\u001b[0m\u001b[0;34m.\u001b[0m\u001b[0mhead\u001b[0m\u001b[0;34m(\u001b[0m\u001b[0;34m)\u001b[0m\u001b[0;34m\u001b[0m\u001b[0;34m\u001b[0m\u001b[0m\n",
            "\u001b[0;32m/usr/local/lib/python3.7/dist-packages/pandas/util/_decorators.py\u001b[0m in \u001b[0;36mwrapper\u001b[0;34m(*args, **kwargs)\u001b[0m\n\u001b[1;32m    309\u001b[0m                     \u001b[0mstacklevel\u001b[0m\u001b[0;34m=\u001b[0m\u001b[0mstacklevel\u001b[0m\u001b[0;34m,\u001b[0m\u001b[0;34m\u001b[0m\u001b[0;34m\u001b[0m\u001b[0m\n\u001b[1;32m    310\u001b[0m                 )\n\u001b[0;32m--> 311\u001b[0;31m             \u001b[0;32mreturn\u001b[0m \u001b[0mfunc\u001b[0m\u001b[0;34m(\u001b[0m\u001b[0;34m*\u001b[0m\u001b[0margs\u001b[0m\u001b[0;34m,\u001b[0m \u001b[0;34m**\u001b[0m\u001b[0mkwargs\u001b[0m\u001b[0;34m)\u001b[0m\u001b[0;34m\u001b[0m\u001b[0;34m\u001b[0m\u001b[0m\n\u001b[0m\u001b[1;32m    312\u001b[0m \u001b[0;34m\u001b[0m\u001b[0m\n\u001b[1;32m    313\u001b[0m         \u001b[0;32mreturn\u001b[0m \u001b[0mwrapper\u001b[0m\u001b[0;34m\u001b[0m\u001b[0;34m\u001b[0m\u001b[0m\n",
            "\u001b[0;32m/usr/local/lib/python3.7/dist-packages/pandas/io/parsers/readers.py\u001b[0m in \u001b[0;36mread_csv\u001b[0;34m(filepath_or_buffer, sep, delimiter, header, names, index_col, usecols, squeeze, prefix, mangle_dupe_cols, dtype, engine, converters, true_values, false_values, skipinitialspace, skiprows, skipfooter, nrows, na_values, keep_default_na, na_filter, verbose, skip_blank_lines, parse_dates, infer_datetime_format, keep_date_col, date_parser, dayfirst, cache_dates, iterator, chunksize, compression, thousands, decimal, lineterminator, quotechar, quoting, doublequote, escapechar, comment, encoding, encoding_errors, dialect, error_bad_lines, warn_bad_lines, on_bad_lines, delim_whitespace, low_memory, memory_map, float_precision, storage_options)\u001b[0m\n\u001b[1;32m    584\u001b[0m     \u001b[0mkwds\u001b[0m\u001b[0;34m.\u001b[0m\u001b[0mupdate\u001b[0m\u001b[0;34m(\u001b[0m\u001b[0mkwds_defaults\u001b[0m\u001b[0;34m)\u001b[0m\u001b[0;34m\u001b[0m\u001b[0;34m\u001b[0m\u001b[0m\n\u001b[1;32m    585\u001b[0m \u001b[0;34m\u001b[0m\u001b[0m\n\u001b[0;32m--> 586\u001b[0;31m     \u001b[0;32mreturn\u001b[0m \u001b[0m_read\u001b[0m\u001b[0;34m(\u001b[0m\u001b[0mfilepath_or_buffer\u001b[0m\u001b[0;34m,\u001b[0m \u001b[0mkwds\u001b[0m\u001b[0;34m)\u001b[0m\u001b[0;34m\u001b[0m\u001b[0;34m\u001b[0m\u001b[0m\n\u001b[0m\u001b[1;32m    587\u001b[0m \u001b[0;34m\u001b[0m\u001b[0m\n\u001b[1;32m    588\u001b[0m \u001b[0;34m\u001b[0m\u001b[0m\n",
            "\u001b[0;32m/usr/local/lib/python3.7/dist-packages/pandas/io/parsers/readers.py\u001b[0m in \u001b[0;36m_read\u001b[0;34m(filepath_or_buffer, kwds)\u001b[0m\n\u001b[1;32m    486\u001b[0m \u001b[0;34m\u001b[0m\u001b[0m\n\u001b[1;32m    487\u001b[0m     \u001b[0;32mwith\u001b[0m \u001b[0mparser\u001b[0m\u001b[0;34m:\u001b[0m\u001b[0;34m\u001b[0m\u001b[0;34m\u001b[0m\u001b[0m\n\u001b[0;32m--> 488\u001b[0;31m         \u001b[0;32mreturn\u001b[0m \u001b[0mparser\u001b[0m\u001b[0;34m.\u001b[0m\u001b[0mread\u001b[0m\u001b[0;34m(\u001b[0m\u001b[0mnrows\u001b[0m\u001b[0;34m)\u001b[0m\u001b[0;34m\u001b[0m\u001b[0;34m\u001b[0m\u001b[0m\n\u001b[0m\u001b[1;32m    489\u001b[0m \u001b[0;34m\u001b[0m\u001b[0m\n\u001b[1;32m    490\u001b[0m \u001b[0;34m\u001b[0m\u001b[0m\n",
            "\u001b[0;32m/usr/local/lib/python3.7/dist-packages/pandas/io/parsers/readers.py\u001b[0m in \u001b[0;36mread\u001b[0;34m(self, nrows)\u001b[0m\n\u001b[1;32m   1045\u001b[0m     \u001b[0;32mdef\u001b[0m \u001b[0mread\u001b[0m\u001b[0;34m(\u001b[0m\u001b[0mself\u001b[0m\u001b[0;34m,\u001b[0m \u001b[0mnrows\u001b[0m\u001b[0;34m=\u001b[0m\u001b[0;32mNone\u001b[0m\u001b[0;34m)\u001b[0m\u001b[0;34m:\u001b[0m\u001b[0;34m\u001b[0m\u001b[0;34m\u001b[0m\u001b[0m\n\u001b[1;32m   1046\u001b[0m         \u001b[0mnrows\u001b[0m \u001b[0;34m=\u001b[0m \u001b[0mvalidate_integer\u001b[0m\u001b[0;34m(\u001b[0m\u001b[0;34m\"nrows\"\u001b[0m\u001b[0;34m,\u001b[0m \u001b[0mnrows\u001b[0m\u001b[0;34m)\u001b[0m\u001b[0;34m\u001b[0m\u001b[0;34m\u001b[0m\u001b[0m\n\u001b[0;32m-> 1047\u001b[0;31m         \u001b[0mindex\u001b[0m\u001b[0;34m,\u001b[0m \u001b[0mcolumns\u001b[0m\u001b[0;34m,\u001b[0m \u001b[0mcol_dict\u001b[0m \u001b[0;34m=\u001b[0m \u001b[0mself\u001b[0m\u001b[0;34m.\u001b[0m\u001b[0m_engine\u001b[0m\u001b[0;34m.\u001b[0m\u001b[0mread\u001b[0m\u001b[0;34m(\u001b[0m\u001b[0mnrows\u001b[0m\u001b[0;34m)\u001b[0m\u001b[0;34m\u001b[0m\u001b[0;34m\u001b[0m\u001b[0m\n\u001b[0m\u001b[1;32m   1048\u001b[0m \u001b[0;34m\u001b[0m\u001b[0m\n\u001b[1;32m   1049\u001b[0m         \u001b[0;32mif\u001b[0m \u001b[0mindex\u001b[0m \u001b[0;32mis\u001b[0m \u001b[0;32mNone\u001b[0m\u001b[0;34m:\u001b[0m\u001b[0;34m\u001b[0m\u001b[0;34m\u001b[0m\u001b[0m\n",
            "\u001b[0;32m/usr/local/lib/python3.7/dist-packages/pandas/io/parsers/c_parser_wrapper.py\u001b[0m in \u001b[0;36mread\u001b[0;34m(self, nrows)\u001b[0m\n\u001b[1;32m    222\u001b[0m         \u001b[0;32mtry\u001b[0m\u001b[0;34m:\u001b[0m\u001b[0;34m\u001b[0m\u001b[0;34m\u001b[0m\u001b[0m\n\u001b[1;32m    223\u001b[0m             \u001b[0;32mif\u001b[0m \u001b[0mself\u001b[0m\u001b[0;34m.\u001b[0m\u001b[0mlow_memory\u001b[0m\u001b[0;34m:\u001b[0m\u001b[0;34m\u001b[0m\u001b[0;34m\u001b[0m\u001b[0m\n\u001b[0;32m--> 224\u001b[0;31m                 \u001b[0mchunks\u001b[0m \u001b[0;34m=\u001b[0m \u001b[0mself\u001b[0m\u001b[0;34m.\u001b[0m\u001b[0m_reader\u001b[0m\u001b[0;34m.\u001b[0m\u001b[0mread_low_memory\u001b[0m\u001b[0;34m(\u001b[0m\u001b[0mnrows\u001b[0m\u001b[0;34m)\u001b[0m\u001b[0;34m\u001b[0m\u001b[0;34m\u001b[0m\u001b[0m\n\u001b[0m\u001b[1;32m    225\u001b[0m                 \u001b[0;31m# destructive to chunks\u001b[0m\u001b[0;34m\u001b[0m\u001b[0;34m\u001b[0m\u001b[0;34m\u001b[0m\u001b[0m\n\u001b[1;32m    226\u001b[0m                 \u001b[0mdata\u001b[0m \u001b[0;34m=\u001b[0m \u001b[0m_concatenate_chunks\u001b[0m\u001b[0;34m(\u001b[0m\u001b[0mchunks\u001b[0m\u001b[0;34m)\u001b[0m\u001b[0;34m\u001b[0m\u001b[0;34m\u001b[0m\u001b[0m\n",
            "\u001b[0;32m/usr/local/lib/python3.7/dist-packages/pandas/_libs/parsers.pyx\u001b[0m in \u001b[0;36mpandas._libs.parsers.TextReader.read_low_memory\u001b[0;34m()\u001b[0m\n",
            "\u001b[0;32m/usr/local/lib/python3.7/dist-packages/pandas/_libs/parsers.pyx\u001b[0m in \u001b[0;36mpandas._libs.parsers.TextReader._read_rows\u001b[0;34m()\u001b[0m\n",
            "\u001b[0;32m/usr/local/lib/python3.7/dist-packages/pandas/_libs/parsers.pyx\u001b[0m in \u001b[0;36mpandas._libs.parsers.TextReader._tokenize_rows\u001b[0;34m()\u001b[0m\n",
            "\u001b[0;32m/usr/local/lib/python3.7/dist-packages/pandas/_libs/parsers.pyx\u001b[0m in \u001b[0;36mpandas._libs.parsers.raise_parser_error\u001b[0;34m()\u001b[0m\n",
            "\u001b[0;31mParserError\u001b[0m: Error tokenizing data. C error: EOF inside string starting at row 1893383"
          ]
        }
      ]
    },
    {
      "cell_type": "code",
      "source": [
        "df.shape"
      ],
      "metadata": {
        "colab": {
          "base_uri": "https://localhost:8080/"
        },
        "id": "Wc5uKHMt7iJC",
        "outputId": "05c3fdd8-48dd-4992-aa28-a77cec2e0d17"
      },
      "execution_count": null,
      "outputs": [
        {
          "output_type": "execute_result",
          "data": {
            "text/plain": [
              "(0, 18)"
            ]
          },
          "metadata": {},
          "execution_count": 26
        }
      ]
    },
    {
      "cell_type": "code",
      "source": [
        "N = 2670000\n",
        "df = df.iloc[:-N , :]\n",
        "df.shape"
      ],
      "metadata": {
        "colab": {
          "base_uri": "https://localhost:8080/"
        },
        "id": "8lvfTb3t7nyr",
        "outputId": "2d509448-2e8d-453a-9e2f-51fdffd32ff6"
      },
      "execution_count": null,
      "outputs": [
        {
          "output_type": "execute_result",
          "data": {
            "text/plain": [
              "(0, 18)"
            ]
          },
          "metadata": {},
          "execution_count": 24
        }
      ]
    },
    {
      "cell_type": "code",
      "source": [
        "df = df[pd.notnull(df['Consumer complaint narrative'])]\n",
        "df.info()"
      ],
      "metadata": {
        "id": "Z1SIrcRt8Sfc"
      },
      "execution_count": null,
      "outputs": []
    },
    {
      "cell_type": "code",
      "source": [
        "col = ['Product', 'Consumer complaint narrative']\n",
        "df = df[col]\n",
        "df.columns"
      ],
      "metadata": {
        "id": "1kamTQqW8U_a"
      },
      "execution_count": null,
      "outputs": []
    },
    {
      "cell_type": "code",
      "source": [
        "df.columns = ['Product', 'Consumer_complaint_narrative']\n",
        "df['category_id'] = df['Product'].factorize()[0]\n",
        "from io import StringIO\n",
        "category_id_df = df[['Product', 'category_id']].drop_duplicates().sort_values('category_id')\n",
        "category_to_id = dict(category_id_df.values)\n",
        "id_to_category = dict(category_id_df[['category_id', 'Product']].values)\n",
        "df.head()"
      ],
      "metadata": {
        "id": "fZcCTIxz8XEM"
      },
      "execution_count": null,
      "outputs": []
    },
    {
      "cell_type": "code",
      "source": [
        "import matplotlib.pyplot as plt\n",
        "fig = plt.figure(figsize=(8,6))\n",
        "df.groupby('Product').Consumer_complaint_narrative.count().plot.bar(ylim=0)\n",
        "plt.show()"
      ],
      "metadata": {
        "id": "9fZMm3P08Zbn"
      },
      "execution_count": null,
      "outputs": []
    },
    {
      "cell_type": "code",
      "source": [
        "from sklearn.feature_extraction.text import TfidfVectorizer\n",
        "\n",
        "tfidf = TfidfVectorizer(sublinear_tf=True, min_df=5, norm='l2', encoding='latin-1', ngram_range=(1, 2), stop_words='english')\n",
        "\n",
        "features = tfidf.fit_transform(df.Consumer_complaint_narrative).toarray()\n",
        "labels = df.category_id\n",
        "features.shape"
      ],
      "metadata": {
        "id": "mAA6PoiZ8bqy"
      },
      "execution_count": null,
      "outputs": []
    },
    {
      "cell_type": "code",
      "source": [
        "from sklearn.feature_selection import chi2\n",
        "import numpy as np\n",
        "\n",
        "N = 2\n",
        "for Product, category_id in sorted(category_to_id.items()):\n",
        "  features_chi2 = chi2(features, labels == category_id)\n",
        "  indices = np.argsort(features_chi2[0])\n",
        "  feature_names = np.array(tfidf.get_feature_names())[indices]\n",
        "  unigrams = [v for v in feature_names if len(v.split(' ')) == 1]\n",
        "  bigrams = [v for v in feature_names if len(v.split(' ')) == 2]\n",
        "  print(\"# '{}':\".format(Product))\n",
        "  print(\"  . Most correlated unigrams:\\n       . {}\".format('\\n       . '.join(unigrams[-N:])))\n",
        "  print(\"  . Most correlated bigrams:\\n       . {}\".format('\\n       . '.join(bigrams[-N:])))"
      ],
      "metadata": {
        "id": "EwZyJfss8eti"
      },
      "execution_count": null,
      "outputs": []
    },
    {
      "cell_type": "code",
      "source": [
        "from sklearn.model_selection import train_test_split\n",
        "from sklearn.feature_extraction.text import CountVectorizer\n",
        "from sklearn.feature_extraction.text import TfidfTransformer\n",
        "from sklearn.naive_bayes import MultinomialNB\n",
        "\n",
        "X_train, X_test, y_train, y_test = train_test_split(df['Consumer_complaint_narrative'], df['Product'], random_state = 0)\n",
        "count_vect = CountVectorizer()\n",
        "X_train_counts = count_vect.fit_transform(X_train)\n",
        "tfidf_transformer = TfidfTransformer()\n",
        "X_train_tfidf = tfidf_transformer.fit_transform(X_train_counts)\n",
        "\n",
        "clf = MultinomialNB().fit(X_train_tfidf, y_train)"
      ],
      "metadata": {
        "id": "_U-A-GT78iQk"
      },
      "execution_count": null,
      "outputs": []
    },
    {
      "cell_type": "code",
      "source": [
        "from sklearn.linear_model import LogisticRegression\n",
        "from sklearn.ensemble import RandomForestClassifier\n",
        "from sklearn.naive_bayes import MultinomialNB\n",
        "from sklearn.svm import LinearSVC\n",
        "\n",
        "from sklearn.model_selection import cross_val_score\n",
        "\n",
        "\n",
        "models = [\n",
        "    RandomForestClassifier(n_estimators=200, max_depth=3, random_state=0),\n",
        "    LinearSVC(),\n",
        "    MultinomialNB(),\n",
        "    LogisticRegression(random_state=0),\n",
        "]\n",
        "CV = 5\n",
        "cv_df = pd.DataFrame(index=range(CV * len(models)))\n",
        "entries = []\n",
        "for model in models:\n",
        "  model_name = model.__class__.__name__\n",
        "  accuracies = cross_val_score(model, features, labels, scoring='accuracy', cv=CV)\n",
        "  for fold_idx, accuracy in enumerate(accuracies):\n",
        "    entries.append((model_name, fold_idx, accuracy))\n",
        "cv_df = pd.DataFrame(entries, columns=['model_name', 'fold_idx', 'accuracy'])"
      ],
      "metadata": {
        "id": "a6TcXgCc8k_q"
      },
      "execution_count": null,
      "outputs": []
    },
    {
      "cell_type": "code",
      "source": [
        "print(clf.predict(count_vect.transform([\"This company refuses to provide me verification and validation of debt per my right under the FDCPA. I do not believe this debt is mine.\"])))"
      ],
      "metadata": {
        "id": "YtDFu5IP8qDi"
      },
      "execution_count": null,
      "outputs": []
    },
    {
      "cell_type": "code",
      "source": [
        "print(clf.predict(count_vect.transform([\"I am disputing the inaccurate information the Chex-Systems has on my credit report. I initially submitted a police report on XXXX/XXXX/16 and Chex Systems only deleted the items that I mentioned in the letter and not all the items that were actually listed on the police report. In other words they wanted me to say word for word to them what items were fraudulent. The total disregard of the police report and what accounts that it states that are fraudulent. If they just had paid a little closer attention to the police report I would not been in this position now and they would n't have to research once again. I would like the reported information to be removed : XXXX XXXX XXXX\"])))"
      ],
      "metadata": {
        "id": "cVyVBWoq8qp1"
      },
      "execution_count": null,
      "outputs": []
    },
    {
      "cell_type": "code",
      "source": [
        "import seaborn as sns\n",
        "\n",
        "sns.boxplot(x='model_name', y='accuracy', data=cv_df)\n",
        "sns.stripplot(x='model_name', y='accuracy', data=cv_df, \n",
        "              size=8, jitter=True, edgecolor=\"gray\", linewidth=2)\n",
        "plt.figure(figsize=(6, 12))\n",
        "plt.show()"
      ],
      "metadata": {
        "id": "o0z3U3mR8tds"
      },
      "execution_count": null,
      "outputs": []
    },
    {
      "cell_type": "code",
      "source": [
        "cv_df.groupby('model_name').accuracy.mean()"
      ],
      "metadata": {
        "id": "5Gcyk-Ny8waO"
      },
      "execution_count": null,
      "outputs": []
    },
    {
      "cell_type": "code",
      "source": [
        "from sklearn.model_selection import train_test_split\n",
        "\n",
        "model = LinearSVC()\n",
        "\n",
        "X_train, X_test, y_train, y_test, indices_train, indices_test = train_test_split(features, labels, df.index, test_size=0.33, random_state=0)\n",
        "model.fit(X_train, y_train)\n",
        "y_pred = model.predict(X_test)"
      ],
      "metadata": {
        "id": "clNnqqzK8zCt"
      },
      "execution_count": null,
      "outputs": []
    },
    {
      "cell_type": "code",
      "source": [
        "from sklearn.metrics import confusion_matrix\n",
        "\n",
        "conf_mat = confusion_matrix(y_test, y_pred)\n",
        "fig, ax = plt.subplots(figsize=(8,6))\n",
        "sns.heatmap(conf_mat, annot=True, fmt='d',\n",
        "            xticklabels=category_id_df.Product.values, yticklabels=category_id_df.Product.values)\n",
        "plt.ylabel('Actual')\n",
        "plt.xlabel('Predicted')\n",
        "plt.show()"
      ],
      "metadata": {
        "id": "GeTUDwi681v7"
      },
      "execution_count": null,
      "outputs": []
    },
    {
      "cell_type": "code",
      "source": [
        "from IPython.display import display\n",
        "\n",
        "for predicted in category_id_df.category_id:\n",
        "  for actual in category_id_df.category_id:\n",
        "    if predicted != actual and conf_mat[actual, predicted] >= 6:\n",
        "      print(\"'{}' predicted as '{}' : {} examples.\".format(id_to_category[actual], id_to_category[predicted], conf_mat[actual, predicted]))\n",
        "      display(df.loc[indices_test[(y_test == actual) & (y_pred == predicted)]][['Product', 'Consumer_complaint_narrative']])\n",
        "      print('')"
      ],
      "metadata": {
        "id": "KsJqxOvw84Lf"
      },
      "execution_count": null,
      "outputs": []
    },
    {
      "cell_type": "code",
      "source": [
        "model.fit(features, labels)\n",
        "from sklearn.feature_selection import chi2\n",
        "\n",
        "N = 2\n",
        "for Product, category_id in sorted(category_to_id.items()):\n",
        "  indices = np.argsort(model.coef_[category_id])\n",
        "  feature_names = np.array(tfidf.get_feature_names())[indices]\n",
        "  unigrams = [v for v in reversed(feature_names) if len(v.split(' ')) == 1][:N]\n",
        "  bigrams = [v for v in reversed(feature_names) if len(v.split(' ')) == 2][:N]\n",
        "  print(\"# '{}':\".format(Product))\n",
        "  print(\"  . Top unigrams:\\n       . {}\".format('\\n       . '.join(unigrams)))\n",
        "  print(\"  . Top bigrams:\\n       . {}\".format('\\n       . '.join(bigrams)))"
      ],
      "metadata": {
        "id": "JVxKMbnN86vB"
      },
      "execution_count": null,
      "outputs": []
    },
    {
      "cell_type": "code",
      "source": [
        "texts = [\"I requested a home loan modification through Bank of America. Bank of America never got back to me.\",\n",
        "         \"It has been difficult for me to find my past due balance. I missed a regular monthly payment\",\n",
        "         \"I can't get the money out of the country.\",\n",
        "         \"I have no money to pay my tuition\",\n",
        "         \"Coinbase closed my account for no reason and furthermore refused to give me a reason despite dozens of request\"]\n",
        "text_features = tfidf.transform(texts)\n",
        "predictions = model.predict(text_features)\n",
        "for text, predicted in zip(texts, predictions):\n",
        "  print('\"{}\"'.format(text))\n",
        "  print(\"  - Predicted as: '{}'\".format(id_to_category[predicted]))\n",
        "  print(\"\")"
      ],
      "metadata": {
        "id": "XGGw_5ak8-q8"
      },
      "execution_count": null,
      "outputs": []
    },
    {
      "cell_type": "code",
      "source": [
        "print(df['Product'].unique())"
      ],
      "metadata": {
        "id": "u8D_TsM19Hg8"
      },
      "execution_count": null,
      "outputs": []
    },
    {
      "cell_type": "code",
      "source": [
        "from sklearn import metrics\n",
        "print(metrics.classification_report(y_test, y_pred))"
      ],
      "metadata": {
        "id": "aCEZHU9b9IJj"
      },
      "execution_count": null,
      "outputs": []
    },
    {
      "cell_type": "code",
      "source": [
        ""
      ],
      "metadata": {
        "id": "3VRG-oC99Kfq"
      },
      "execution_count": null,
      "outputs": []
    }
  ]
}
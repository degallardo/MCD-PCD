{
  "nbformat": 4,
  "nbformat_minor": 0,
  "metadata": {
    "colab": {
      "name": "MCD-PCD_Tarea03_Chatbot.ipynb",
      "provenance": []
    },
    "kernelspec": {
      "name": "python3",
      "display_name": "Python 3"
    },
    "language_info": {
      "name": "python"
    }
  },
  "cells": [
    {
      "cell_type": "code",
      "execution_count": null,
      "metadata": {
        "colab": {
          "base_uri": "https://localhost:8080/",
          "height": 104
        },
        "id": "d3WHELWBOdhH",
        "outputId": "a3cd0b34-0cb8-47a9-8aec-f5030d4b751b"
      },
      "outputs": [
        {
          "output_type": "stream",
          "name": "stdout",
          "text": [
            "[nltk_data] Downloading package stopwords to /root/nltk_data...\n",
            "[nltk_data]   Package stopwords is already up-to-date!\n"
          ]
        },
        {
          "output_type": "display_data",
          "data": {
            "text/html": [
              "        <script type=\"text/javascript\">\n",
              "        window.PlotlyConfig = {MathJaxConfig: 'local'};\n",
              "        if (window.MathJax) {MathJax.Hub.Config({SVG: {font: \"STIX-Web\"}});}\n",
              "        if (typeof require !== 'undefined') {\n",
              "        require.undef(\"plotly\");\n",
              "        requirejs.config({\n",
              "            paths: {\n",
              "                'plotly': ['https://cdn.plot.ly/plotly-2.8.3.min']\n",
              "            }\n",
              "        });\n",
              "        require(['plotly'], function(Plotly) {\n",
              "            window._Plotly = Plotly;\n",
              "        });\n",
              "        }\n",
              "        </script>\n",
              "        "
            ]
          },
          "metadata": {}
        },
        {
          "output_type": "stream",
          "name": "stdout",
          "text": [
            "Sheet_1.csv\n",
            "Sheet_2.csv\n",
            "\n"
          ]
        }
      ],
      "source": [
        "# This Python 3 environment comes with many helpful analytics libraries installed\n",
        "# It is defined by the kaggle/python docker image: https://github.com/kaggle/docker-python\n",
        "# https://www.kaggle.com/code/rahulvks/text-classification-chatbot/notebook\n",
        "# For example, here's several helpful packages to load in \n",
        "\n",
        "import numpy as np # linear algebra\n",
        "import pandas as pd # data processing, CSV file I/O (e.g. pd.read_csv)\n",
        "\n",
        "# Input data files are available in the \"../input/\" directory.\n",
        "# For example, running this (by clicking run or pressing Shift+Enter) will list the files in the input directory\n",
        "\n",
        "import pandas as pd\n",
        "import numpy as np\n",
        "import re\n",
        "import string\n",
        "import nltk\n",
        "from nltk.corpus import stopwords\n",
        "nltk.download('stopwords')\n",
        "stop = set(stopwords.words('english'))\n",
        "from wordcloud import WordCloud, STOPWORDS\n",
        "import matplotlib as plty\n",
        "import matplotlib.pyplot as plt\n",
        "import seaborn as sns\n",
        "%matplotlib inline\n",
        "import sklearn\n",
        "\n",
        "\n",
        "import numpy as np\n",
        "import pandas as pd\n",
        "import seaborn as sns\n",
        "import matplotlib.pyplot as plt\n",
        "from subprocess import check_output\n",
        "\n",
        "%matplotlib inline\n",
        "import plotly.offline as py\n",
        "py.init_notebook_mode(connected=True)\n",
        "import plotly.graph_objs as go\n",
        "import plotly.tools as tls\n",
        "\n",
        "import plotly.graph_objs as go\n",
        "from sklearn import preprocessing\n",
        "Encode = preprocessing.LabelEncoder()\n",
        "from sklearn.feature_extraction.text import CountVectorizer\n",
        "from sklearn.feature_extraction.text import TfidfVectorizer\n",
        "tfid = TfidfVectorizer()\n",
        "vect = CountVectorizer()\n",
        "from sklearn.model_selection import train_test_split\n",
        "from sklearn.naive_bayes import MultinomialNB\n",
        "from sklearn.manifold import TSNE\n",
        "NB = MultinomialNB()\n",
        "\n",
        "import nltk\n",
        "from nltk.corpus import stopwords\n",
        "stopwords = stopwords.words(\"english\")\n",
        "from sklearn import metrics\n",
        "from sklearn.svm import SVC\n",
        "from sklearn.ensemble import RandomForestClassifier\n",
        "\n",
        "print(check_output([\"ls\", \"/content/drive/MyDrive/MCD/4_PCD/Tarea03\"]).decode(\"utf8\"))"
      ]
    },
    {
      "cell_type": "code",
      "source": [
        "chatbot = pd.read_csv(\"/content/drive/MyDrive/MCD/4_PCD/Tarea03/Sheet_1.csv\",usecols=['response_id','class','response_text'],encoding='latin-1')\n",
        "resume = pd.read_csv(\"/content/drive/MyDrive/MCD/4_PCD/Tarea03/Sheet_2.csv\",encoding='latin-1')"
      ],
      "metadata": {
        "id": "YbQ--CGiQBZH"
      },
      "execution_count": null,
      "outputs": []
    },
    {
      "cell_type": "code",
      "source": [
        "chatbot.head(5)"
      ],
      "metadata": {
        "colab": {
          "base_uri": "https://localhost:8080/",
          "height": 206
        },
        "id": "CN3SpxuqQMHk",
        "outputId": "6dc982e2-b883-4e5d-e492-0ac52a55744a"
      },
      "execution_count": null,
      "outputs": [
        {
          "output_type": "execute_result",
          "data": {
            "text/plain": [
              "  response_id        class                                      response_text\n",
              "0  response_1  not_flagged              I try and avoid this sort of conflict\n",
              "1  response_2      flagged  Had a friend open up to me about his mental ad...\n",
              "2  response_3      flagged  I saved a girl from suicide once. She was goin...\n",
              "3  response_4  not_flagged  i cant think of one really...i think i may hav...\n",
              "4  response_5  not_flagged  Only really one friend who doesn't fit into th..."
            ],
            "text/html": [
              "\n",
              "  <div id=\"df-17e39f8e-d148-4ee1-92e1-2eacf64ba59b\">\n",
              "    <div class=\"colab-df-container\">\n",
              "      <div>\n",
              "<style scoped>\n",
              "    .dataframe tbody tr th:only-of-type {\n",
              "        vertical-align: middle;\n",
              "    }\n",
              "\n",
              "    .dataframe tbody tr th {\n",
              "        vertical-align: top;\n",
              "    }\n",
              "\n",
              "    .dataframe thead th {\n",
              "        text-align: right;\n",
              "    }\n",
              "</style>\n",
              "<table border=\"1\" class=\"dataframe\">\n",
              "  <thead>\n",
              "    <tr style=\"text-align: right;\">\n",
              "      <th></th>\n",
              "      <th>response_id</th>\n",
              "      <th>class</th>\n",
              "      <th>response_text</th>\n",
              "    </tr>\n",
              "  </thead>\n",
              "  <tbody>\n",
              "    <tr>\n",
              "      <th>0</th>\n",
              "      <td>response_1</td>\n",
              "      <td>not_flagged</td>\n",
              "      <td>I try and avoid this sort of conflict</td>\n",
              "    </tr>\n",
              "    <tr>\n",
              "      <th>1</th>\n",
              "      <td>response_2</td>\n",
              "      <td>flagged</td>\n",
              "      <td>Had a friend open up to me about his mental ad...</td>\n",
              "    </tr>\n",
              "    <tr>\n",
              "      <th>2</th>\n",
              "      <td>response_3</td>\n",
              "      <td>flagged</td>\n",
              "      <td>I saved a girl from suicide once. She was goin...</td>\n",
              "    </tr>\n",
              "    <tr>\n",
              "      <th>3</th>\n",
              "      <td>response_4</td>\n",
              "      <td>not_flagged</td>\n",
              "      <td>i cant think of one really...i think i may hav...</td>\n",
              "    </tr>\n",
              "    <tr>\n",
              "      <th>4</th>\n",
              "      <td>response_5</td>\n",
              "      <td>not_flagged</td>\n",
              "      <td>Only really one friend who doesn't fit into th...</td>\n",
              "    </tr>\n",
              "  </tbody>\n",
              "</table>\n",
              "</div>\n",
              "      <button class=\"colab-df-convert\" onclick=\"convertToInteractive('df-17e39f8e-d148-4ee1-92e1-2eacf64ba59b')\"\n",
              "              title=\"Convert this dataframe to an interactive table.\"\n",
              "              style=\"display:none;\">\n",
              "        \n",
              "  <svg xmlns=\"http://www.w3.org/2000/svg\" height=\"24px\"viewBox=\"0 0 24 24\"\n",
              "       width=\"24px\">\n",
              "    <path d=\"M0 0h24v24H0V0z\" fill=\"none\"/>\n",
              "    <path d=\"M18.56 5.44l.94 2.06.94-2.06 2.06-.94-2.06-.94-.94-2.06-.94 2.06-2.06.94zm-11 1L8.5 8.5l.94-2.06 2.06-.94-2.06-.94L8.5 2.5l-.94 2.06-2.06.94zm10 10l.94 2.06.94-2.06 2.06-.94-2.06-.94-.94-2.06-.94 2.06-2.06.94z\"/><path d=\"M17.41 7.96l-1.37-1.37c-.4-.4-.92-.59-1.43-.59-.52 0-1.04.2-1.43.59L10.3 9.45l-7.72 7.72c-.78.78-.78 2.05 0 2.83L4 21.41c.39.39.9.59 1.41.59.51 0 1.02-.2 1.41-.59l7.78-7.78 2.81-2.81c.8-.78.8-2.07 0-2.86zM5.41 20L4 18.59l7.72-7.72 1.47 1.35L5.41 20z\"/>\n",
              "  </svg>\n",
              "      </button>\n",
              "      \n",
              "  <style>\n",
              "    .colab-df-container {\n",
              "      display:flex;\n",
              "      flex-wrap:wrap;\n",
              "      gap: 12px;\n",
              "    }\n",
              "\n",
              "    .colab-df-convert {\n",
              "      background-color: #E8F0FE;\n",
              "      border: none;\n",
              "      border-radius: 50%;\n",
              "      cursor: pointer;\n",
              "      display: none;\n",
              "      fill: #1967D2;\n",
              "      height: 32px;\n",
              "      padding: 0 0 0 0;\n",
              "      width: 32px;\n",
              "    }\n",
              "\n",
              "    .colab-df-convert:hover {\n",
              "      background-color: #E2EBFA;\n",
              "      box-shadow: 0px 1px 2px rgba(60, 64, 67, 0.3), 0px 1px 3px 1px rgba(60, 64, 67, 0.15);\n",
              "      fill: #174EA6;\n",
              "    }\n",
              "\n",
              "    [theme=dark] .colab-df-convert {\n",
              "      background-color: #3B4455;\n",
              "      fill: #D2E3FC;\n",
              "    }\n",
              "\n",
              "    [theme=dark] .colab-df-convert:hover {\n",
              "      background-color: #434B5C;\n",
              "      box-shadow: 0px 1px 3px 1px rgba(0, 0, 0, 0.15);\n",
              "      filter: drop-shadow(0px 1px 2px rgba(0, 0, 0, 0.3));\n",
              "      fill: #FFFFFF;\n",
              "    }\n",
              "  </style>\n",
              "\n",
              "      <script>\n",
              "        const buttonEl =\n",
              "          document.querySelector('#df-17e39f8e-d148-4ee1-92e1-2eacf64ba59b button.colab-df-convert');\n",
              "        buttonEl.style.display =\n",
              "          google.colab.kernel.accessAllowed ? 'block' : 'none';\n",
              "\n",
              "        async function convertToInteractive(key) {\n",
              "          const element = document.querySelector('#df-17e39f8e-d148-4ee1-92e1-2eacf64ba59b');\n",
              "          const dataTable =\n",
              "            await google.colab.kernel.invokeFunction('convertToInteractive',\n",
              "                                                     [key], {});\n",
              "          if (!dataTable) return;\n",
              "\n",
              "          const docLinkHtml = 'Like what you see? Visit the ' +\n",
              "            '<a target=\"_blank\" href=https://colab.research.google.com/notebooks/data_table.ipynb>data table notebook</a>'\n",
              "            + ' to learn more about interactive tables.';\n",
              "          element.innerHTML = '';\n",
              "          dataTable['output_type'] = 'display_data';\n",
              "          await google.colab.output.renderOutput(dataTable, element);\n",
              "          const docLink = document.createElement('div');\n",
              "          docLink.innerHTML = docLinkHtml;\n",
              "          element.appendChild(docLink);\n",
              "        }\n",
              "      </script>\n",
              "    </div>\n",
              "  </div>\n",
              "  "
            ]
          },
          "metadata": {},
          "execution_count": 6
        }
      ]
    },
    {
      "cell_type": "code",
      "source": [
        "chatbot['class'].value_counts()"
      ],
      "metadata": {
        "colab": {
          "base_uri": "https://localhost:8080/"
        },
        "id": "WJkMrsZPQRPt",
        "outputId": "9b63477c-4442-4021-ceb5-c11b83cc4024"
      },
      "execution_count": null,
      "outputs": [
        {
          "output_type": "execute_result",
          "data": {
            "text/plain": [
              "not_flagged    55\n",
              "flagged        25\n",
              "Name: class, dtype: int64"
            ]
          },
          "metadata": {},
          "execution_count": 7
        }
      ]
    },
    {
      "cell_type": "code",
      "source": [
        "def cloud(text):\n",
        "    wordcloud = WordCloud(background_color=\"blue\",stopwords=stop).generate(\" \".join([i for i in text.str.upper()]))\n",
        "    plt.imshow(wordcloud)\n",
        "    plt.axis(\"off\")\n",
        "    plt.title(\"Chat Bot Response\")\n",
        "cloud(chatbot['response_text'])"
      ],
      "metadata": {
        "colab": {
          "base_uri": "https://localhost:8080/",
          "height": 214
        },
        "id": "2hcqKA2VQT98",
        "outputId": "c90586c3-0cb2-4b45-9cbc-32d56d9bb6d6"
      },
      "execution_count": null,
      "outputs": [
        {
          "output_type": "display_data",
          "data": {
            "text/plain": [
              "<Figure size 432x288 with 1 Axes>"
            ],
            "image/png": "[encoded data removed]"
          },
          "metadata": {
            "needs_background": "light"
          }
        }
      ]
    },
    {
      "cell_type": "code",
      "source": [
        "chatbot['Label'] = Encode.fit_transform(chatbot['class'])"
      ],
      "metadata": {
        "id": "HWEM0ePCQYMU"
      },
      "execution_count": null,
      "outputs": []
    },
    {
      "cell_type": "code",
      "source": [
        "chatbot['Label'].value_counts()\n",
        "#not_flagged    55\n",
        "#flagged        25"
      ],
      "metadata": {
        "colab": {
          "base_uri": "https://localhost:8080/"
        },
        "id": "Un4pSi8pQakF",
        "outputId": "af16d4da-fd11-42d4-8812-e6eb2d56c88e"
      },
      "execution_count": null,
      "outputs": [
        {
          "output_type": "execute_result",
          "data": {
            "text/plain": [
              "1    55\n",
              "0    25\n",
              "Name: Label, dtype: int64"
            ]
          },
          "metadata": {},
          "execution_count": 10
        }
      ]
    },
    {
      "cell_type": "code",
      "source": [
        "x = chatbot.response_text\n",
        "y = chatbot.Label\n",
        "x_train,x_test,y_train,y_test = train_test_split(x,y,random_state=1)\n",
        "x_train_dtm = vect.fit_transform(x_train)\n",
        "x_test_dtm = vect.transform(x_test)\n",
        "NB.fit(x_train_dtm,y_train)\n",
        "y_predict = NB.predict(x_test_dtm)\n",
        "metrics.accuracy_score(y_test,y_predict)"
      ],
      "metadata": {
        "colab": {
          "base_uri": "https://localhost:8080/"
        },
        "id": "YyPE1tRkQeeJ",
        "outputId": "725ad387-9b39-4d30-c5d6-4745eb0d9592"
      },
      "execution_count": null,
      "outputs": [
        {
          "output_type": "execute_result",
          "data": {
            "text/plain": [
              "0.7"
            ]
          },
          "metadata": {},
          "execution_count": 11
        }
      ]
    },
    {
      "cell_type": "code",
      "source": [
        "rf = RandomForestClassifier(max_depth=10,max_features=10)\n",
        "rf.fit(x_train_dtm,y_train)\n",
        "rf_predict = rf.predict(x_test_dtm)\n",
        "metrics.accuracy_score(y_test,rf_predict)"
      ],
      "metadata": {
        "colab": {
          "base_uri": "https://localhost:8080/"
        },
        "id": "eFO-hE5-Qh21",
        "outputId": "f8e1370c-81dd-4d22-8cac-ac9b98c1e42a"
      },
      "execution_count": null,
      "outputs": [
        {
          "output_type": "execute_result",
          "data": {
            "text/plain": [
              "0.8"
            ]
          },
          "metadata": {},
          "execution_count": 12
        }
      ]
    },
    {
      "cell_type": "code",
      "source": [
        "Chatbot_Text = chatbot[\"response_text\"]\n",
        "len(Chatbot_Text)"
      ],
      "metadata": {
        "colab": {
          "base_uri": "https://localhost:8080/"
        },
        "id": "KSQ7JQxLQkyG",
        "outputId": "edb58532-714d-4595-8aa7-c7367a1ec98a"
      },
      "execution_count": null,
      "outputs": [
        {
          "output_type": "execute_result",
          "data": {
            "text/plain": [
              "80"
            ]
          },
          "metadata": {},
          "execution_count": 13
        }
      ]
    },
    {
      "cell_type": "code",
      "source": [
        "Tf_idf = CountVectorizer(max_features=256).fit_transform(Chatbot_Text.values)"
      ],
      "metadata": {
        "id": "p-YGJy-uQn4U"
      },
      "execution_count": null,
      "outputs": []
    },
    {
      "cell_type": "code",
      "source": [
        "tsne = TSNE(\n",
        "    n_components=3,\n",
        "    init='random', # pca\n",
        "    random_state=101,\n",
        "    method='barnes_hut',\n",
        "    n_iter=250,\n",
        "    verbose=2,\n",
        "    angle=0.5\n",
        ").fit_transform(Tf_idf.toarray())"
      ],
      "metadata": {
        "colab": {
          "base_uri": "https://localhost:8080/"
        },
        "id": "BftrABQ0QqS0",
        "outputId": "0ec6fd4c-3079-422e-8366-25c10666b27b"
      },
      "execution_count": null,
      "outputs": [
        {
          "output_type": "stream",
          "name": "stderr",
          "text": [
            "/usr/local/lib/python3.7/dist-packages/sklearn/manifold/_t_sne.py:793: FutureWarning:\n",
            "\n",
            "The default learning rate in TSNE will change from 200.0 to 'auto' in 1.2.\n",
            "\n"
          ]
        },
        {
          "output_type": "stream",
          "name": "stdout",
          "text": [
            "[t-SNE] Computing 79 nearest neighbors...\n",
            "[t-SNE] Indexed 80 samples in 0.000s...\n",
            "[t-SNE] Computed neighbors for 80 samples in 0.018s...\n",
            "[t-SNE] Computed conditional probabilities for sample 80 / 80\n",
            "[t-SNE] Mean sigma: 2.119036\n",
            "[t-SNE] Computed conditional probabilities in 0.021s\n",
            "[t-SNE] Iteration 50: error = 119.4778442, gradient norm = 0.1165645 (50 iterations in 0.304s)\n",
            "[t-SNE] Iteration 100: error = 118.9866791, gradient norm = 0.1364284 (50 iterations in 0.215s)\n",
            "[t-SNE] Iteration 150: error = 136.3815155, gradient norm = 0.1426529 (50 iterations in 0.114s)\n",
            "[t-SNE] Iteration 200: error = 140.0742798, gradient norm = 0.0871371 (50 iterations in 0.302s)\n",
            "[t-SNE] Iteration 250: error = 146.8081512, gradient norm = 0.1087012 (50 iterations in 0.118s)\n",
            "[t-SNE] KL divergence after 250 iterations with early exaggeration: 146.808151\n",
            "[t-SNE] KL divergence after 251 iterations: 179769313486231570814527423731704356798070567525844996598917476803157260780028538760589558632766878171540458953514382464234321326889464182768467546703537516986049910576551282076245490090389328944075868508455133942304583236903222948165808559332123348274797826204144723168738177180919299881250404026184124858368.000000\n"
          ]
        }
      ]
    },
    {
      "cell_type": "code",
      "source": [
        "trace1 = go.Scatter3d(\n",
        "    x=tsne[:,0],\n",
        "    y=tsne[:,1],\n",
        "    z=tsne[:,2],\n",
        "    mode='markers',\n",
        "    marker=dict(\n",
        "        sizemode='diameter',\n",
        "        color = 'rgb(25, 25, 25)', # Chatbot_Text.values,\n",
        "        colorscale = 'Portland',\n",
        "        colorbar = dict(title = 'TExt'),\n",
        "        line=dict(color='rgb(255, 255, 255)'),\n",
        "        opacity=0.75\n",
        "    )\n",
        ")\n",
        "\n",
        "data=[trace1]\n",
        "layout=dict(height=800, width=800, title='test')\n",
        "fig=dict(data=data, layout=layout)\n",
        "py.iplot(fig, filename='3DBubble')"
      ],
      "metadata": {
        "colab": {
          "base_uri": "https://localhost:8080/",
          "height": 817
        },
        "id": "-5TPuWuLQ5S8",
        "outputId": "33804c62-a77f-480c-8458-43d824e1bf66"
      },
      "execution_count": null,
      "outputs": [
        {
          "output_type": "display_data",
          "data": {
            "application/vnd.plotly.v1+json": {
              "data": [
                {
                  "marker": {
                    "color": "rgb(25, 25, 25)",
                    "colorbar": {
                      "title": {
                        "text": "TExt"
                      }
                    },
                    "colorscale": [
                      [
                        0,
                        "rgb(12,51,131)"
                      ],
                      [
                        0.25,
                        "rgb(10,136,186)"
                      ],
                      [
                        0.5,
                        "rgb(242,211,56)"
                      ],
                      [
                        0.75,
                        "rgb(242,143,56)"
                      ],
                      [
                        1,
                        "rgb(217,30,30)"
                      ]
                    ],
                    "line": {
                      "color": "rgb(255, 255, 255)"
                    },
                    "opacity": 0.75,
                    "sizemode": "diameter"
                  },
                  "mode": "markers",
                  "x": [
                    22.501583099365234,
                    -0.8677263855934143,
                    -6.914083003997803,
                    -0.7969647645950317,
                    -1.2601264715194702,
                    -0.9499325752258301,
                    -20.264341354370117,
                    -0.07325947284698486,
                    -0.6132416129112244,
                    -1.5726127624511719,
                    -0.2660152316093445,
                    -17.94002342224121,
                    -3.8069090843200684,
                    11.756617546081543,
                    -54.22341537475586,
                    -1.2362020015716553,
                    8.711719512939453,
                    92.18424987792969,
                    -6.06072998046875,
                    -0.3717406988143921,
                    15.4104642868042,
                    17.823266983032227,
                    -0.3471416234970093,
                    -0.49125728011131287,
                    -0.37201419472694397,
                    -1.2568448781967163,
                    -1.2455859184265137,
                    -11.672663688659668,
                    81.10511016845703,
                    -0.0542987585067749,
                    84.11865997314453,
                    42.39516830444336,
                    -0.9080477356910706,
                    -1.3028371334075928,
                    -0.184079110622406,
                    7.453754901885986,
                    -100.17220306396484,
                    -0.5572615265846252,
                    -0.8508466482162476,
                    -58.80901336669922,
                    -1.0291712284088135,
                    0.41057372093200684,
                    -138.60169982910156,
                    12.363412857055664,
                    -345.4615783691406,
                    0.03904527425765991,
                    -0.5067020058631897,
                    -1.52359139919281,
                    -0.26462480425834656,
                    -0.6275379657745361,
                    -0.46504199504852295,
                    -123.97627258300781,
                    -0.8727848529815674,
                    -5.705663204193115,
                    -0.9034078121185303,
                    -0.47739940881729126,
                    -15.731861114501953,
                    3.413729190826416,
                    392.93365478515625,
                    0.44178515672683716,
                    372.38116455078125,
                    -8.160487174987793,
                    193.42784118652344,
                    -1.1085470914840698,
                    -1.22709321975708,
                    -183.9117889404297,
                    5.085326671600342,
                    -0.5909845232963562,
                    0.3993326425552368,
                    -0.9633153080940247,
                    3.5495452880859375,
                    -0.903904914855957,
                    -1.0056968927383423,
                    11.673376083374023,
                    -0.8277494311332703,
                    0.005818188190460205,
                    -0.6587659120559692,
                    -24.735214233398438,
                    -4.532675266265869,
                    -0.15149226784706116
                  ],
                  "y": [
                    90.4134750366211,
                    -7.727492809295654,
                    -0.7604043483734131,
                    0.6965651512145996,
                    -0.5036280751228333,
                    1.450512170791626,
                    0.4968411922454834,
                    1.6513166427612305,
                    0.10331732034683228,
                    -0.37539559602737427,
                    0.4145113229751587,
                    0.8147162199020386,
                    159.751953125,
                    -11.439910888671875,
                    -20.427785873413086,
                    0.17694196105003357,
                    1.909828782081604,
                    -78.14727020263672,
                    -6.405304431915283,
                    -0.018975988030433655,
                    58.08335876464844,
                    -4.3704023361206055,
                    -0.5159668922424316,
                    -0.2414335012435913,
                    0.11417567729949951,
                    -0.8709557056427002,
                    0.767404317855835,
                    -49.857322692871094,
                    13.992810249328613,
                    -0.011012732982635498,
                    -60.400848388671875,
                    61.760093688964844,
                    0.7736676931381226,
                    0.6227254867553711,
                    0.1963321417570114,
                    -3.193223476409912,
                    20.776321411132812,
                    0.040764033794403076,
                    0.7856137752532959,
                    -23.849876403808594,
                    -0.43104374408721924,
                    -0.28816771507263184,
                    -60.563228607177734,
                    55.06793975830078,
                    163.22727966308594,
                    0.8879963159561157,
                    -0.015652179718017578,
                    1.2165231704711914,
                    -0.11008739471435547,
                    0.6008856892585754,
                    -0.5622317790985107,
                    -22.496156692504883,
                    -0.14723385870456696,
                    12.442852020263672,
                    0.6250035762786865,
                    -0.3062170147895813,
                    -9.404746055603027,
                    -49.849151611328125,
                    28.841733932495117,
                    -0.19830214977264404,
                    22.677371978759766,
                    -2.9077887535095215,
                    -86.65564727783203,
                    -0.10508966445922852,
                    -0.3016310930252075,
                    -66.68718719482422,
                    -1.863309383392334,
                    0.3938370943069458,
                    1.0692431926727295,
                    0.8956825137138367,
                    35.04911804199219,
                    0.5683960914611816,
                    -0.550195574760437,
                    -56.932533264160156,
                    -0.07139354944229126,
                    -0.7320445775985718,
                    0.17898797988891602,
                    -47.58388137817383,
                    -26.829004287719727,
                    -0.41146978735923767
                  ],
                  "z": [
                    -25.21470069885254,
                    48.59192657470703,
                    0.14199496805667877,
                    -0.041122376918792725,
                    -0.7236816883087158,
                    0.4458772838115692,
                    14.22928237915039,
                    -0.004065915942192078,
                    -0.6309624314308167,
                    0.43960022926330566,
                    0.21820476651191711,
                    13.476116180419922,
                    3.8671836853027344,
                    59.755027770996094,
                    -51.691123962402344,
                    -0.3780837953090668,
                    3.9230637550354004,
                    -16.44268035888672,
                    -57.32191848754883,
                    -0.33412599563598633,
                    -21.800342559814453,
                    23.16345977783203,
                    -0.9688750505447388,
                    -0.21060234308242798,
                    -0.44881683588027954,
                    -0.3411955237388611,
                    -1.5204157829284668,
                    29.93731689453125,
                    -41.044700622558594,
                    -1.0543737411499023,
                    -31.419910430908203,
                    -1.6005454063415527,
                    -0.5774944424629211,
                    0.45983415842056274,
                    -1.0522676706314087,
                    -0.6374748349189758,
                    -1.7774614095687866,
                    -0.9912369251251221,
                    0.7626122832298279,
                    15.060514450073242,
                    0.18760818243026733,
                    -0.632840633392334,
                    9.426544189453125,
                    -42.48645782470703,
                    -61.332679748535156,
                    1.296379566192627,
                    -1.059590220451355,
                    -0.39355507493019104,
                    -0.16172683238983154,
                    -0.0858258455991745,
                    -0.17582792043685913,
                    -23.8055477142334,
                    -0.2929009199142456,
                    -87.49744415283203,
                    -0.7858608961105347,
                    -0.8211541771888733,
                    54.527713775634766,
                    22.933549880981445,
                    -339.7117919921875,
                    -0.5791526436805725,
                    -31.826173782348633,
                    -0.2548116445541382,
                    -65.7176284790039,
                    -0.6182445287704468,
                    0.6002880334854126,
                    118.69914245605469,
                    -2.208387851715088,
                    -0.38963836431503296,
                    -1.0751655101776123,
                    1.6133118867874146,
                    2.1523640155792236,
                    0.054133474826812744,
                    -0.8548637628555298,
                    7.575335502624512,
                    -0.6867655515670776,
                    -1.2818361520767212,
                    0.04975086450576782,
                    4.124852180480957,
                    7.739068984985352,
                    1.1676886081695557
                  ],
                  "type": "scatter3d"
                }
              ],
              "layout": {
                "height": 800,
                "template": {
                  "data": {
                    "barpolar": [
                      {
                        "marker": {
                          "line": {
                            "color": "#E5ECF6",
                            "width": 0.5
                          },
                          "pattern": {
                            "fillmode": "overlay",
                            "size": 10,
                            "solidity": 0.2
                          }
                        },
                        "type": "barpolar"
                      }
                    ],
                    "bar": [
                      {
                        "error_x": {
                          "color": "#2a3f5f"
                        },
                        "error_y": {
                          "color": "#2a3f5f"
                        },
                        "marker": {
                          "line": {
                            "color": "#E5ECF6",
                            "width": 0.5
                          },
                          "pattern": {
                            "fillmode": "overlay",
                            "size": 10,
                            "solidity": 0.2
                          }
                        },
                        "type": "bar"
                      }
                    ],
                    "carpet": [
                      {
                        "aaxis": {
                          "endlinecolor": "#2a3f5f",
                          "gridcolor": "white",
                          "linecolor": "white",
                          "minorgridcolor": "white",
                          "startlinecolor": "#2a3f5f"
                        },
                        "baxis": {
                          "endlinecolor": "#2a3f5f",
                          "gridcolor": "white",
                          "linecolor": "white",
                          "minorgridcolor": "white",
                          "startlinecolor": "#2a3f5f"
                        },
                        "type": "carpet"
                      }
                    ],
                    "choropleth": [
                      {
                        "colorbar": {
                          "outlinewidth": 0,
                          "ticks": ""
                        },
                        "type": "choropleth"
                      }
                    ],
                    "contourcarpet": [
                      {
                        "colorbar": {
                          "outlinewidth": 0,
                          "ticks": ""
                        },
                        "type": "contourcarpet"
                      }
                    ],
                    "contour": [
                      {
                        "colorbar": {
                          "outlinewidth": 0,
                          "ticks": ""
                        },
                        "colorscale": [
                          [
                            0,
                            "#0d0887"
                          ],
                          [
                            0.1111111111111111,
                            "#46039f"
                          ],
                          [
                            0.2222222222222222,
                            "#7201a8"
                          ],
                          [
                            0.3333333333333333,
                            "#9c179e"
                          ],
                          [
                            0.4444444444444444,
                            "#bd3786"
                          ],
                          [
                            0.5555555555555556,
                            "#d8576b"
                          ],
                          [
                            0.6666666666666666,
                            "#ed7953"
                          ],
                          [
                            0.7777777777777778,
                            "#fb9f3a"
                          ],
                          [
                            0.8888888888888888,
                            "#fdca26"
                          ],
                          [
                            1,
                            "#f0f921"
                          ]
                        ],
                        "type": "contour"
                      }
                    ],
                    "heatmapgl": [
                      {
                        "colorbar": {
                          "outlinewidth": 0,
                          "ticks": ""
                        },
                        "colorscale": [
                          [
                            0,
                            "#0d0887"
                          ],
                          [
                            0.1111111111111111,
                            "#46039f"
                          ],
                          [
                            0.2222222222222222,
                            "#7201a8"
                          ],
                          [
                            0.3333333333333333,
                            "#9c179e"
                          ],
                          [
                            0.4444444444444444,
                            "#bd3786"
                          ],
                          [
                            0.5555555555555556,
                            "#d8576b"
                          ],
                          [
                            0.6666666666666666,
                            "#ed7953"
                          ],
                          [
                            0.7777777777777778,
                            "#fb9f3a"
                          ],
                          [
                            0.8888888888888888,
                            "#fdca26"
                          ],
                          [
                            1,
                            "#f0f921"
                          ]
                        ],
                        "type": "heatmapgl"
                      }
                    ],
                    "heatmap": [
                      {
                        "colorbar": {
                          "outlinewidth": 0,
                          "ticks": ""
                        },
                        "colorscale": [
                          [
                            0,
                            "#0d0887"
                          ],
                          [
                            0.1111111111111111,
                            "#46039f"
                          ],
                          [
                            0.2222222222222222,
                            "#7201a8"
                          ],
                          [
                            0.3333333333333333,
                            "#9c179e"
                          ],
                          [
                            0.4444444444444444,
                            "#bd3786"
                          ],
                          [
                            0.5555555555555556,
                            "#d8576b"
                          ],
                          [
                            0.6666666666666666,
                            "#ed7953"
                          ],
                          [
                            0.7777777777777778,
                            "#fb9f3a"
                          ],
                          [
                            0.8888888888888888,
                            "#fdca26"
                          ],
                          [
                            1,
                            "#f0f921"
                          ]
                        ],
                        "type": "heatmap"
                      }
                    ],
                    "histogram2dcontour": [
                      {
                        "colorbar": {
                          "outlinewidth": 0,
                          "ticks": ""
                        },
                        "colorscale": [
                          [
                            0,
                            "#0d0887"
                          ],
                          [
                            0.1111111111111111,
                            "#46039f"
                          ],
                          [
                            0.2222222222222222,
                            "#7201a8"
                          ],
                          [
                            0.3333333333333333,
                            "#9c179e"
                          ],
                          [
                            0.4444444444444444,
                            "#bd3786"
                          ],
                          [
                            0.5555555555555556,
                            "#d8576b"
                          ],
                          [
                            0.6666666666666666,
                            "#ed7953"
                          ],
                          [
                            0.7777777777777778,
                            "#fb9f3a"
                          ],
                          [
                            0.8888888888888888,
                            "#fdca26"
                          ],
                          [
                            1,
                            "#f0f921"
                          ]
                        ],
                        "type": "histogram2dcontour"
                      }
                    ],
                    "histogram2d": [
                      {
                        "colorbar": {
                          "outlinewidth": 0,
                          "ticks": ""
                        },
                        "colorscale": [
                          [
                            0,
                            "#0d0887"
                          ],
                          [
                            0.1111111111111111,
                            "#46039f"
                          ],
                          [
                            0.2222222222222222,
                            "#7201a8"
                          ],
                          [
                            0.3333333333333333,
                            "#9c179e"
                          ],
                          [
                            0.4444444444444444,
                            "#bd3786"
                          ],
                          [
                            0.5555555555555556,
                            "#d8576b"
                          ],
                          [
                            0.6666666666666666,
                            "#ed7953"
                          ],
                          [
                            0.7777777777777778,
                            "#fb9f3a"
                          ],
                          [
                            0.8888888888888888,
                            "#fdca26"
                          ],
                          [
                            1,
                            "#f0f921"
                          ]
                        ],
                        "type": "histogram2d"
                      }
                    ],
                    "histogram": [
                      {
                        "marker": {
                          "pattern": {
                            "fillmode": "overlay",
                            "size": 10,
                            "solidity": 0.2
                          }
                        },
                        "type": "histogram"
                      }
                    ],
                    "mesh3d": [
                      {
                        "colorbar": {
                          "outlinewidth": 0,
                          "ticks": ""
                        },
                        "type": "mesh3d"
                      }
                    ],
                    "parcoords": [
                      {
                        "line": {
                          "colorbar": {
                            "outlinewidth": 0,
                            "ticks": ""
                          }
                        },
                        "type": "parcoords"
                      }
                    ],
                    "pie": [
                      {
                        "automargin": true,
                        "type": "pie"
                      }
                    ],
                    "scatter3d": [
                      {
                        "line": {
                          "colorbar": {
                            "outlinewidth": 0,
                            "ticks": ""
                          }
                        },
                        "marker": {
                          "colorbar": {
                            "outlinewidth": 0,
                            "ticks": ""
                          }
                        },
                        "type": "scatter3d"
                      }
                    ],
                    "scattercarpet": [
                      {
                        "marker": {
                          "colorbar": {
                            "outlinewidth": 0,
                            "ticks": ""
                          }
                        },
                        "type": "scattercarpet"
                      }
                    ],
                    "scattergeo": [
                      {
                        "marker": {
                          "colorbar": {
                            "outlinewidth": 0,
                            "ticks": ""
                          }
                        },
                        "type": "scattergeo"
                      }
                    ],
                    "scattergl": [
                      {
                        "marker": {
                          "colorbar": {
                            "outlinewidth": 0,
                            "ticks": ""
                          }
                        },
                        "type": "scattergl"
                      }
                    ],
                    "scattermapbox": [
                      {
                        "marker": {
                          "colorbar": {
                            "outlinewidth": 0,
                            "ticks": ""
                          }
                        },
                        "type": "scattermapbox"
                      }
                    ],
                    "scatterpolargl": [
                      {
                        "marker": {
                          "colorbar": {
                            "outlinewidth": 0,
                            "ticks": ""
                          }
                        },
                        "type": "scatterpolargl"
                      }
                    ],
                    "scatterpolar": [
                      {
                        "marker": {
                          "colorbar": {
                            "outlinewidth": 0,
                            "ticks": ""
                          }
                        },
                        "type": "scatterpolar"
                      }
                    ],
                    "scatter": [
                      {
                        "marker": {
                          "colorbar": {
                            "outlinewidth": 0,
                            "ticks": ""
                          }
                        },
                        "type": "scatter"
                      }
                    ],
                    "scatterternary": [
                      {
                        "marker": {
                          "colorbar": {
                            "outlinewidth": 0,
                            "ticks": ""
                          }
                        },
                        "type": "scatterternary"
                      }
                    ],
                    "surface": [
                      {
                        "colorbar": {
                          "outlinewidth": 0,
                          "ticks": ""
                        },
                        "colorscale": [
                          [
                            0,
                            "#0d0887"
                          ],
                          [
                            0.1111111111111111,
                            "#46039f"
                          ],
                          [
                            0.2222222222222222,
                            "#7201a8"
                          ],
                          [
                            0.3333333333333333,
                            "#9c179e"
                          ],
                          [
                            0.4444444444444444,
                            "#bd3786"
                          ],
                          [
                            0.5555555555555556,
                            "#d8576b"
                          ],
                          [
                            0.6666666666666666,
                            "#ed7953"
                          ],
                          [
                            0.7777777777777778,
                            "#fb9f3a"
                          ],
                          [
                            0.8888888888888888,
                            "#fdca26"
                          ],
                          [
                            1,
                            "#f0f921"
                          ]
                        ],
                        "type": "surface"
                      }
                    ],
                    "table": [
                      {
                        "cells": {
                          "fill": {
                            "color": "#EBF0F8"
                          },
                          "line": {
                            "color": "white"
                          }
                        },
                        "header": {
                          "fill": {
                            "color": "#C8D4E3"
                          },
                          "line": {
                            "color": "white"
                          }
                        },
                        "type": "table"
                      }
                    ]
                  },
                  "layout": {
                    "annotationdefaults": {
                      "arrowcolor": "#2a3f5f",
                      "arrowhead": 0,
                      "arrowwidth": 1
                    },
                    "autotypenumbers": "strict",
                    "coloraxis": {
                      "colorbar": {
                        "outlinewidth": 0,
                        "ticks": ""
                      }
                    },
                    "colorscale": {
                      "diverging": [
                        [
                          0,
                          "#8e0152"
                        ],
                        [
                          0.1,
                          "#c51b7d"
                        ],
                        [
                          0.2,
                          "#de77ae"
                        ],
                        [
                          0.3,
                          "#f1b6da"
                        ],
                        [
                          0.4,
                          "#fde0ef"
                        ],
                        [
                          0.5,
                          "#f7f7f7"
                        ],
                        [
                          0.6,
                          "#e6f5d0"
                        ],
                        [
                          0.7,
                          "#b8e186"
                        ],
                        [
                          0.8,
                          "#7fbc41"
                        ],
                        [
                          0.9,
                          "#4d9221"
                        ],
                        [
                          1,
                          "#276419"
                        ]
                      ],
                      "sequential": [
                        [
                          0,
                          "#0d0887"
                        ],
                        [
                          0.1111111111111111,
                          "#46039f"
                        ],
                        [
                          0.2222222222222222,
                          "#7201a8"
                        ],
                        [
                          0.3333333333333333,
                          "#9c179e"
                        ],
                        [
                          0.4444444444444444,
                          "#bd3786"
                        ],
                        [
                          0.5555555555555556,
                          "#d8576b"
                        ],
                        [
                          0.6666666666666666,
                          "#ed7953"
                        ],
                        [
                          0.7777777777777778,
                          "#fb9f3a"
                        ],
                        [
                          0.8888888888888888,
                          "#fdca26"
                        ],
                        [
                          1,
                          "#f0f921"
                        ]
                      ],
                      "sequentialminus": [
                        [
                          0,
                          "#0d0887"
                        ],
                        [
                          0.1111111111111111,
                          "#46039f"
                        ],
                        [
                          0.2222222222222222,
                          "#7201a8"
                        ],
                        [
                          0.3333333333333333,
                          "#9c179e"
                        ],
                        [
                          0.4444444444444444,
                          "#bd3786"
                        ],
                        [
                          0.5555555555555556,
                          "#d8576b"
                        ],
                        [
                          0.6666666666666666,
                          "#ed7953"
                        ],
                        [
                          0.7777777777777778,
                          "#fb9f3a"
                        ],
                        [
                          0.8888888888888888,
                          "#fdca26"
                        ],
                        [
                          1,
                          "#f0f921"
                        ]
                      ]
                    },
                    "colorway": [
                      "#636efa",
                      "#EF553B",
                      "#00cc96",
                      "#ab63fa",
                      "#FFA15A",
                      "#19d3f3",
                      "#FF6692",
                      "#B6E880",
                      "#FF97FF",
                      "#FECB52"
                    ],
                    "font": {
                      "color": "#2a3f5f"
                    },
                    "geo": {
                      "bgcolor": "white",
                      "lakecolor": "white",
                      "landcolor": "#E5ECF6",
                      "showlakes": true,
                      "showland": true,
                      "subunitcolor": "white"
                    },
                    "hoverlabel": {
                      "align": "left"
                    },
                    "hovermode": "closest",
                    "mapbox": {
                      "style": "light"
                    },
                    "paper_bgcolor": "white",
                    "plot_bgcolor": "#E5ECF6",
                    "polar": {
                      "angularaxis": {
                        "gridcolor": "white",
                        "linecolor": "white",
                        "ticks": ""
                      },
                      "bgcolor": "#E5ECF6",
                      "radialaxis": {
                        "gridcolor": "white",
                        "linecolor": "white",
                        "ticks": ""
                      }
                    },
                    "scene": {
                      "xaxis": {
                        "backgroundcolor": "#E5ECF6",
                        "gridcolor": "white",
                        "gridwidth": 2,
                        "linecolor": "white",
                        "showbackground": true,
                        "ticks": "",
                        "zerolinecolor": "white"
                      },
                      "yaxis": {
                        "backgroundcolor": "#E5ECF6",
                        "gridcolor": "white",
                        "gridwidth": 2,
                        "linecolor": "white",
                        "showbackground": true,
                        "ticks": "",
                        "zerolinecolor": "white"
                      },
                      "zaxis": {
                        "backgroundcolor": "#E5ECF6",
                        "gridcolor": "white",
                        "gridwidth": 2,
                        "linecolor": "white",
                        "showbackground": true,
                        "ticks": "",
                        "zerolinecolor": "white"
                      }
                    },
                    "shapedefaults": {
                      "line": {
                        "color": "#2a3f5f"
                      }
                    },
                    "ternary": {
                      "aaxis": {
                        "gridcolor": "white",
                        "linecolor": "white",
                        "ticks": ""
                      },
                      "baxis": {
                        "gridcolor": "white",
                        "linecolor": "white",
                        "ticks": ""
                      },
                      "bgcolor": "#E5ECF6",
                      "caxis": {
                        "gridcolor": "white",
                        "linecolor": "white",
                        "ticks": ""
                      }
                    },
                    "title": {
                      "x": 0.05
                    },
                    "xaxis": {
                      "automargin": true,
                      "gridcolor": "white",
                      "linecolor": "white",
                      "ticks": "",
                      "title": {
                        "standoff": 15
                      },
                      "zerolinecolor": "white",
                      "zerolinewidth": 2
                    },
                    "yaxis": {
                      "automargin": true,
                      "gridcolor": "white",
                      "linecolor": "white",
                      "ticks": "",
                      "title": {
                        "standoff": 15
                      },
                      "zerolinecolor": "white",
                      "zerolinewidth": 2
                    }
                  }
                },
                "title": {
                  "text": "test"
                },
                "width": 800
              },
              "config": {
                "showLink": false,
                "linkText": "Export to plot.ly",
                "plotlyServerURL": "https://plot.ly"
              }
            },
            "text/html": [
              "<div>                            <div id=\"bdfc77e7-867a-45f4-9023-22e15ee5de63\" class=\"plotly-graph-div\" style=\"height:800px; width:800px;\"></div>            <script type=\"text/javascript\">                require([\"plotly\"], function(Plotly) {                    window.PLOTLYENV=window.PLOTLYENV || {};                                    if (document.getElementById(\"bdfc77e7-867a-45f4-9023-22e15ee5de63\")) {                    Plotly.newPlot(                        \"bdfc77e7-867a-45f4-9023-22e15ee5de63\",                        [{\"marker\":{\"color\":\"rgb(25, 25, 25)\",\"colorbar\":{\"title\":{\"text\":\"TExt\"}},\"colorscale\":[[0.0,\"rgb(12,51,131)\"],[0.25,\"rgb(10,136,186)\"],[0.5,\"rgb(242,211,56)\"],[0.75,\"rgb(242,143,56)\"],[1.0,\"rgb(217,30,30)\"]],\"line\":{\"color\":\"rgb(255, 255, 255)\"},\"opacity\":0.75,\"sizemode\":\"diameter\"},\"mode\":\"markers\",\"x\":[22.501583099365234,-0.8677263855934143,-6.914083003997803,-0.7969647645950317,-1.2601264715194702,-0.9499325752258301,-20.264341354370117,-0.07325947284698486,-0.6132416129112244,-1.5726127624511719,-0.2660152316093445,-17.94002342224121,-3.8069090843200684,11.756617546081543,-54.22341537475586,-1.2362020015716553,8.711719512939453,92.18424987792969,-6.06072998046875,-0.3717406988143921,15.4104642868042,17.823266983032227,-0.3471416234970093,-0.49125728011131287,-0.37201419472694397,-1.2568448781967163,-1.2455859184265137,-11.672663688659668,81.10511016845703,-0.0542987585067749,84.11865997314453,42.39516830444336,-0.9080477356910706,-1.3028371334075928,-0.184079110622406,7.453754901885986,-100.17220306396484,-0.5572615265846252,-0.8508466482162476,-58.80901336669922,-1.0291712284088135,0.41057372093200684,-138.60169982910156,12.363412857055664,-345.4615783691406,0.03904527425765991,-0.5067020058631897,-1.52359139919281,-0.26462480425834656,-0.6275379657745361,-0.46504199504852295,-123.97627258300781,-0.8727848529815674,-5.705663204193115,-0.9034078121185303,-0.47739940881729126,-15.731861114501953,3.413729190826416,392.93365478515625,0.44178515672683716,372.38116455078125,-8.160487174987793,193.42784118652344,-1.1085470914840698,-1.22709321975708,-183.9117889404297,5.085326671600342,-0.5909845232963562,0.3993326425552368,-0.9633153080940247,3.5495452880859375,-0.903904914855957,-1.0056968927383423,11.673376083374023,-0.8277494311332703,0.005818188190460205,-0.6587659120559692,-24.735214233398438,-4.532675266265869,-0.15149226784706116],\"y\":[90.4134750366211,-7.727492809295654,-0.7604043483734131,0.6965651512145996,-0.5036280751228333,1.450512170791626,0.4968411922454834,1.6513166427612305,0.10331732034683228,-0.37539559602737427,0.4145113229751587,0.8147162199020386,159.751953125,-11.439910888671875,-20.427785873413086,0.17694196105003357,1.909828782081604,-78.14727020263672,-6.405304431915283,-0.018975988030433655,58.08335876464844,-4.3704023361206055,-0.5159668922424316,-0.2414335012435913,0.11417567729949951,-0.8709557056427002,0.767404317855835,-49.857322692871094,13.992810249328613,-0.011012732982635498,-60.400848388671875,61.760093688964844,0.7736676931381226,0.6227254867553711,0.1963321417570114,-3.193223476409912,20.776321411132812,0.040764033794403076,0.7856137752532959,-23.849876403808594,-0.43104374408721924,-0.28816771507263184,-60.563228607177734,55.06793975830078,163.22727966308594,0.8879963159561157,-0.015652179718017578,1.2165231704711914,-0.11008739471435547,0.6008856892585754,-0.5622317790985107,-22.496156692504883,-0.14723385870456696,12.442852020263672,0.6250035762786865,-0.3062170147895813,-9.404746055603027,-49.849151611328125,28.841733932495117,-0.19830214977264404,22.677371978759766,-2.9077887535095215,-86.65564727783203,-0.10508966445922852,-0.3016310930252075,-66.68718719482422,-1.863309383392334,0.3938370943069458,1.0692431926727295,0.8956825137138367,35.04911804199219,0.5683960914611816,-0.550195574760437,-56.932533264160156,-0.07139354944229126,-0.7320445775985718,0.17898797988891602,-47.58388137817383,-26.829004287719727,-0.41146978735923767],\"z\":[-25.21470069885254,48.59192657470703,0.14199496805667877,-0.041122376918792725,-0.7236816883087158,0.4458772838115692,14.22928237915039,-0.004065915942192078,-0.6309624314308167,0.43960022926330566,0.21820476651191711,13.476116180419922,3.8671836853027344,59.755027770996094,-51.691123962402344,-0.3780837953090668,3.9230637550354004,-16.44268035888672,-57.32191848754883,-0.33412599563598633,-21.800342559814453,23.16345977783203,-0.9688750505447388,-0.21060234308242798,-0.44881683588027954,-0.3411955237388611,-1.5204157829284668,29.93731689453125,-41.044700622558594,-1.0543737411499023,-31.419910430908203,-1.6005454063415527,-0.5774944424629211,0.45983415842056274,-1.0522676706314087,-0.6374748349189758,-1.7774614095687866,-0.9912369251251221,0.7626122832298279,15.060514450073242,0.18760818243026733,-0.632840633392334,9.426544189453125,-42.48645782470703,-61.332679748535156,1.296379566192627,-1.059590220451355,-0.39355507493019104,-0.16172683238983154,-0.0858258455991745,-0.17582792043685913,-23.8055477142334,-0.2929009199142456,-87.49744415283203,-0.7858608961105347,-0.8211541771888733,54.527713775634766,22.933549880981445,-339.7117919921875,-0.5791526436805725,-31.826173782348633,-0.2548116445541382,-65.7176284790039,-0.6182445287704468,0.6002880334854126,118.69914245605469,-2.208387851715088,-0.38963836431503296,-1.0751655101776123,1.6133118867874146,2.1523640155792236,0.054133474826812744,-0.8548637628555298,7.575335502624512,-0.6867655515670776,-1.2818361520767212,0.04975086450576782,4.124852180480957,7.739068984985352,1.1676886081695557],\"type\":\"scatter3d\"}],                        {\"height\":800,\"template\":{\"data\":{\"barpolar\":[{\"marker\":{\"line\":{\"color\":\"#E5ECF6\",\"width\":0.5},\"pattern\":{\"fillmode\":\"overlay\",\"size\":10,\"solidity\":0.2}},\"type\":\"barpolar\"}],\"bar\":[{\"error_x\":{\"color\":\"#2a3f5f\"},\"error_y\":{\"color\":\"#2a3f5f\"},\"marker\":{\"line\":{\"color\":\"#E5ECF6\",\"width\":0.5},\"pattern\":{\"fillmode\":\"overlay\",\"size\":10,\"solidity\":0.2}},\"type\":\"bar\"}],\"carpet\":[{\"aaxis\":{\"endlinecolor\":\"#2a3f5f\",\"gridcolor\":\"white\",\"linecolor\":\"white\",\"minorgridcolor\":\"white\",\"startlinecolor\":\"#2a3f5f\"},\"baxis\":{\"endlinecolor\":\"#2a3f5f\",\"gridcolor\":\"white\",\"linecolor\":\"white\",\"minorgridcolor\":\"white\",\"startlinecolor\":\"#2a3f5f\"},\"type\":\"carpet\"}],\"choropleth\":[{\"colorbar\":{\"outlinewidth\":0,\"ticks\":\"\"},\"type\":\"choropleth\"}],\"contourcarpet\":[{\"colorbar\":{\"outlinewidth\":0,\"ticks\":\"\"},\"type\":\"contourcarpet\"}],\"contour\":[{\"colorbar\":{\"outlinewidth\":0,\"ticks\":\"\"},\"colorscale\":[[0.0,\"#0d0887\"],[0.1111111111111111,\"#46039f\"],[0.2222222222222222,\"#7201a8\"],[0.3333333333333333,\"#9c179e\"],[0.4444444444444444,\"#bd3786\"],[0.5555555555555556,\"#d8576b\"],[0.6666666666666666,\"#ed7953\"],[0.7777777777777778,\"#fb9f3a\"],[0.8888888888888888,\"#fdca26\"],[1.0,\"#f0f921\"]],\"type\":\"contour\"}],\"heatmapgl\":[{\"colorbar\":{\"outlinewidth\":0,\"ticks\":\"\"},\"colorscale\":[[0.0,\"#0d0887\"],[0.1111111111111111,\"#46039f\"],[0.2222222222222222,\"#7201a8\"],[0.3333333333333333,\"#9c179e\"],[0.4444444444444444,\"#bd3786\"],[0.5555555555555556,\"#d8576b\"],[0.6666666666666666,\"#ed7953\"],[0.7777777777777778,\"#fb9f3a\"],[0.8888888888888888,\"#fdca26\"],[1.0,\"#f0f921\"]],\"type\":\"heatmapgl\"}],\"heatmap\":[{\"colorbar\":{\"outlinewidth\":0,\"ticks\":\"\"},\"colorscale\":[[0.0,\"#0d0887\"],[0.1111111111111111,\"#46039f\"],[0.2222222222222222,\"#7201a8\"],[0.3333333333333333,\"#9c179e\"],[0.4444444444444444,\"#bd3786\"],[0.5555555555555556,\"#d8576b\"],[0.6666666666666666,\"#ed7953\"],[0.7777777777777778,\"#fb9f3a\"],[0.8888888888888888,\"#fdca26\"],[1.0,\"#f0f921\"]],\"type\":\"heatmap\"}],\"histogram2dcontour\":[{\"colorbar\":{\"outlinewidth\":0,\"ticks\":\"\"},\"colorscale\":[[0.0,\"#0d0887\"],[0.1111111111111111,\"#46039f\"],[0.2222222222222222,\"#7201a8\"],[0.3333333333333333,\"#9c179e\"],[0.4444444444444444,\"#bd3786\"],[0.5555555555555556,\"#d8576b\"],[0.6666666666666666,\"#ed7953\"],[0.7777777777777778,\"#fb9f3a\"],[0.8888888888888888,\"#fdca26\"],[1.0,\"#f0f921\"]],\"type\":\"histogram2dcontour\"}],\"histogram2d\":[{\"colorbar\":{\"outlinewidth\":0,\"ticks\":\"\"},\"colorscale\":[[0.0,\"#0d0887\"],[0.1111111111111111,\"#46039f\"],[0.2222222222222222,\"#7201a8\"],[0.3333333333333333,\"#9c179e\"],[0.4444444444444444,\"#bd3786\"],[0.5555555555555556,\"#d8576b\"],[0.6666666666666666,\"#ed7953\"],[0.7777777777777778,\"#fb9f3a\"],[0.8888888888888888,\"#fdca26\"],[1.0,\"#f0f921\"]],\"type\":\"histogram2d\"}],\"histogram\":[{\"marker\":{\"pattern\":{\"fillmode\":\"overlay\",\"size\":10,\"solidity\":0.2}},\"type\":\"histogram\"}],\"mesh3d\":[{\"colorbar\":{\"outlinewidth\":0,\"ticks\":\"\"},\"type\":\"mesh3d\"}],\"parcoords\":[{\"line\":{\"colorbar\":{\"outlinewidth\":0,\"ticks\":\"\"}},\"type\":\"parcoords\"}],\"pie\":[{\"automargin\":true,\"type\":\"pie\"}],\"scatter3d\":[{\"line\":{\"colorbar\":{\"outlinewidth\":0,\"ticks\":\"\"}},\"marker\":{\"colorbar\":{\"outlinewidth\":0,\"ticks\":\"\"}},\"type\":\"scatter3d\"}],\"scattercarpet\":[{\"marker\":{\"colorbar\":{\"outlinewidth\":0,\"ticks\":\"\"}},\"type\":\"scattercarpet\"}],\"scattergeo\":[{\"marker\":{\"colorbar\":{\"outlinewidth\":0,\"ticks\":\"\"}},\"type\":\"scattergeo\"}],\"scattergl\":[{\"marker\":{\"colorbar\":{\"outlinewidth\":0,\"ticks\":\"\"}},\"type\":\"scattergl\"}],\"scattermapbox\":[{\"marker\":{\"colorbar\":{\"outlinewidth\":0,\"ticks\":\"\"}},\"type\":\"scattermapbox\"}],\"scatterpolargl\":[{\"marker\":{\"colorbar\":{\"outlinewidth\":0,\"ticks\":\"\"}},\"type\":\"scatterpolargl\"}],\"scatterpolar\":[{\"marker\":{\"colorbar\":{\"outlinewidth\":0,\"ticks\":\"\"}},\"type\":\"scatterpolar\"}],\"scatter\":[{\"marker\":{\"colorbar\":{\"outlinewidth\":0,\"ticks\":\"\"}},\"type\":\"scatter\"}],\"scatterternary\":[{\"marker\":{\"colorbar\":{\"outlinewidth\":0,\"ticks\":\"\"}},\"type\":\"scatterternary\"}],\"surface\":[{\"colorbar\":{\"outlinewidth\":0,\"ticks\":\"\"},\"colorscale\":[[0.0,\"#0d0887\"],[0.1111111111111111,\"#46039f\"],[0.2222222222222222,\"#7201a8\"],[0.3333333333333333,\"#9c179e\"],[0.4444444444444444,\"#bd3786\"],[0.5555555555555556,\"#d8576b\"],[0.6666666666666666,\"#ed7953\"],[0.7777777777777778,\"#fb9f3a\"],[0.8888888888888888,\"#fdca26\"],[1.0,\"#f0f921\"]],\"type\":\"surface\"}],\"table\":[{\"cells\":{\"fill\":{\"color\":\"#EBF0F8\"},\"line\":{\"color\":\"white\"}},\"header\":{\"fill\":{\"color\":\"#C8D4E3\"},\"line\":{\"color\":\"white\"}},\"type\":\"table\"}]},\"layout\":{\"annotationdefaults\":{\"arrowcolor\":\"#2a3f5f\",\"arrowhead\":0,\"arrowwidth\":1},\"autotypenumbers\":\"strict\",\"coloraxis\":{\"colorbar\":{\"outlinewidth\":0,\"ticks\":\"\"}},\"colorscale\":{\"diverging\":[[0,\"#8e0152\"],[0.1,\"#c51b7d\"],[0.2,\"#de77ae\"],[0.3,\"#f1b6da\"],[0.4,\"#fde0ef\"],[0.5,\"#f7f7f7\"],[0.6,\"#e6f5d0\"],[0.7,\"#b8e186\"],[0.8,\"#7fbc41\"],[0.9,\"#4d9221\"],[1,\"#276419\"]],\"sequential\":[[0.0,\"#0d0887\"],[0.1111111111111111,\"#46039f\"],[0.2222222222222222,\"#7201a8\"],[0.3333333333333333,\"#9c179e\"],[0.4444444444444444,\"#bd3786\"],[0.5555555555555556,\"#d8576b\"],[0.6666666666666666,\"#ed7953\"],[0.7777777777777778,\"#fb9f3a\"],[0.8888888888888888,\"#fdca26\"],[1.0,\"#f0f921\"]],\"sequentialminus\":[[0.0,\"#0d0887\"],[0.1111111111111111,\"#46039f\"],[0.2222222222222222,\"#7201a8\"],[0.3333333333333333,\"#9c179e\"],[0.4444444444444444,\"#bd3786\"],[0.5555555555555556,\"#d8576b\"],[0.6666666666666666,\"#ed7953\"],[0.7777777777777778,\"#fb9f3a\"],[0.8888888888888888,\"#fdca26\"],[1.0,\"#f0f921\"]]},\"colorway\":[\"#636efa\",\"#EF553B\",\"#00cc96\",\"#ab63fa\",\"#FFA15A\",\"#19d3f3\",\"#FF6692\",\"#B6E880\",\"#FF97FF\",\"#FECB52\"],\"font\":{\"color\":\"#2a3f5f\"},\"geo\":{\"bgcolor\":\"white\",\"lakecolor\":\"white\",\"landcolor\":\"#E5ECF6\",\"showlakes\":true,\"showland\":true,\"subunitcolor\":\"white\"},\"hoverlabel\":{\"align\":\"left\"},\"hovermode\":\"closest\",\"mapbox\":{\"style\":\"light\"},\"paper_bgcolor\":\"white\",\"plot_bgcolor\":\"#E5ECF6\",\"polar\":{\"angularaxis\":{\"gridcolor\":\"white\",\"linecolor\":\"white\",\"ticks\":\"\"},\"bgcolor\":\"#E5ECF6\",\"radialaxis\":{\"gridcolor\":\"white\",\"linecolor\":\"white\",\"ticks\":\"\"}},\"scene\":{\"xaxis\":{\"backgroundcolor\":\"#E5ECF6\",\"gridcolor\":\"white\",\"gridwidth\":2,\"linecolor\":\"white\",\"showbackground\":true,\"ticks\":\"\",\"zerolinecolor\":\"white\"},\"yaxis\":{\"backgroundcolor\":\"#E5ECF6\",\"gridcolor\":\"white\",\"gridwidth\":2,\"linecolor\":\"white\",\"showbackground\":true,\"ticks\":\"\",\"zerolinecolor\":\"white\"},\"zaxis\":{\"backgroundcolor\":\"#E5ECF6\",\"gridcolor\":\"white\",\"gridwidth\":2,\"linecolor\":\"white\",\"showbackground\":true,\"ticks\":\"\",\"zerolinecolor\":\"white\"}},\"shapedefaults\":{\"line\":{\"color\":\"#2a3f5f\"}},\"ternary\":{\"aaxis\":{\"gridcolor\":\"white\",\"linecolor\":\"white\",\"ticks\":\"\"},\"baxis\":{\"gridcolor\":\"white\",\"linecolor\":\"white\",\"ticks\":\"\"},\"bgcolor\":\"#E5ECF6\",\"caxis\":{\"gridcolor\":\"white\",\"linecolor\":\"white\",\"ticks\":\"\"}},\"title\":{\"x\":0.05},\"xaxis\":{\"automargin\":true,\"gridcolor\":\"white\",\"linecolor\":\"white\",\"ticks\":\"\",\"title\":{\"standoff\":15},\"zerolinecolor\":\"white\",\"zerolinewidth\":2},\"yaxis\":{\"automargin\":true,\"gridcolor\":\"white\",\"linecolor\":\"white\",\"ticks\":\"\",\"title\":{\"standoff\":15},\"zerolinecolor\":\"white\",\"zerolinewidth\":2}}},\"title\":{\"text\":\"test\"},\"width\":800},                        {\"responsive\": true}                    ).then(function(){\n",
              "                            \n",
              "var gd = document.getElementById('bdfc77e7-867a-45f4-9023-22e15ee5de63');\n",
              "var x = new MutationObserver(function (mutations, observer) {{\n",
              "        var display = window.getComputedStyle(gd).display;\n",
              "        if (!display || display === 'none') {{\n",
              "            console.log([gd, 'removed!']);\n",
              "            Plotly.purge(gd);\n",
              "            observer.disconnect();\n",
              "        }}\n",
              "}});\n",
              "\n",
              "// Listen for the removal of the full notebook cells\n",
              "var notebookContainer = gd.closest('#notebook-container');\n",
              "if (notebookContainer) {{\n",
              "    x.observe(notebookContainer, {childList: true});\n",
              "}}\n",
              "\n",
              "// Listen for the clearing of the current output cell\n",
              "var outputEl = gd.closest('.output');\n",
              "if (outputEl) {{\n",
              "    x.observe(outputEl, {childList: true});\n",
              "}}\n",
              "\n",
              "                        })                };                });            </script>        </div>"
            ]
          },
          "metadata": {}
        }
      ]
    }
  ]
}